{
 "cells": [
  {
   "cell_type": "code",
   "execution_count": 4,
   "metadata": {
    "collapsed": true
   },
   "outputs": [
    {
     "name": "stderr",
     "output_type": "stream",
     "text": [
      "C:\\Users\\Dario\\AppData\\Local\\Temp\\ipykernel_45676\\1289106569.py:2: DtypeWarning: Columns (10) have mixed types. Specify dtype option on import or set low_memory=False.\n",
      "  social = pd.read_csv(\"Aggregated_reddit_twitter.csv\")\n"
     ]
    }
   ],
   "source": [
    "import pandas as pd\n",
    "social = pd.read_csv(\"Aggregated_reddit_twitter.csv\")\n",
    "crypto = pd.read_csv(\"transformed_crypto.csv\")"
   ]
  },
  {
   "cell_type": "code",
   "execution_count": 7,
   "outputs": [
    {
     "data": {
      "text/plain": "         Unnamed: 0       replies         likes  other_scores\ncount  1.630626e+06  1.608590e+06  1.608590e+06           0.0\nmean   8.153125e+05  1.487198e+00  9.932480e+00           NaN\nstd    4.707213e+05  3.940739e+01  1.757894e+02           NaN\nmin    0.000000e+00  0.000000e+00 -2.086000e+03           NaN\n25%    4.076562e+05  0.000000e+00  1.000000e+00           NaN\n50%    8.153125e+05  0.000000e+00  1.000000e+00           NaN\n75%    1.222969e+06  0.000000e+00  3.000000e+00           NaN\nmax    1.630625e+06  1.172700e+04  6.685200e+04           NaN",
      "text/html": "<div>\n<style scoped>\n    .dataframe tbody tr th:only-of-type {\n        vertical-align: middle;\n    }\n\n    .dataframe tbody tr th {\n        vertical-align: top;\n    }\n\n    .dataframe thead th {\n        text-align: right;\n    }\n</style>\n<table border=\"1\" class=\"dataframe\">\n  <thead>\n    <tr style=\"text-align: right;\">\n      <th></th>\n      <th>Unnamed: 0</th>\n      <th>replies</th>\n      <th>likes</th>\n      <th>other_scores</th>\n    </tr>\n  </thead>\n  <tbody>\n    <tr>\n      <th>count</th>\n      <td>1.630626e+06</td>\n      <td>1.608590e+06</td>\n      <td>1.608590e+06</td>\n      <td>0.0</td>\n    </tr>\n    <tr>\n      <th>mean</th>\n      <td>8.153125e+05</td>\n      <td>1.487198e+00</td>\n      <td>9.932480e+00</td>\n      <td>NaN</td>\n    </tr>\n    <tr>\n      <th>std</th>\n      <td>4.707213e+05</td>\n      <td>3.940739e+01</td>\n      <td>1.757894e+02</td>\n      <td>NaN</td>\n    </tr>\n    <tr>\n      <th>min</th>\n      <td>0.000000e+00</td>\n      <td>0.000000e+00</td>\n      <td>-2.086000e+03</td>\n      <td>NaN</td>\n    </tr>\n    <tr>\n      <th>25%</th>\n      <td>4.076562e+05</td>\n      <td>0.000000e+00</td>\n      <td>1.000000e+00</td>\n      <td>NaN</td>\n    </tr>\n    <tr>\n      <th>50%</th>\n      <td>8.153125e+05</td>\n      <td>0.000000e+00</td>\n      <td>1.000000e+00</td>\n      <td>NaN</td>\n    </tr>\n    <tr>\n      <th>75%</th>\n      <td>1.222969e+06</td>\n      <td>0.000000e+00</td>\n      <td>3.000000e+00</td>\n      <td>NaN</td>\n    </tr>\n    <tr>\n      <th>max</th>\n      <td>1.630625e+06</td>\n      <td>1.172700e+04</td>\n      <td>6.685200e+04</td>\n      <td>NaN</td>\n    </tr>\n  </tbody>\n</table>\n</div>"
     },
     "execution_count": 7,
     "metadata": {},
     "output_type": "execute_result"
    }
   ],
   "source": [
    "social[\"date\"] = pd.to_datetime(social[\"date\"])\n",
    "social.describe()"
   ],
   "metadata": {
    "collapsed": false
   }
  }
 ],
 "metadata": {
  "kernelspec": {
   "display_name": "Python 3",
   "language": "python",
   "name": "python3"
  },
  "language_info": {
   "codemirror_mode": {
    "name": "ipython",
    "version": 2
   },
   "file_extension": ".py",
   "mimetype": "text/x-python",
   "name": "python",
   "nbconvert_exporter": "python",
   "pygments_lexer": "ipython2",
   "version": "2.7.6"
  }
 },
 "nbformat": 4,
 "nbformat_minor": 0
}
