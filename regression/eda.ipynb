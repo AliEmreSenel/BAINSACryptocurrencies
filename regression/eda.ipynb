{
 "cells": [
  {
   "cell_type": "code",
   "execution_count": 2,
   "metadata": {
    "collapsed": true,
    "ExecuteTime": {
     "start_time": "2023-04-19T15:56:04.394789Z",
     "end_time": "2023-04-19T15:56:13.734132Z"
    }
   },
   "outputs": [
    {
     "name": "stderr",
     "output_type": "stream",
     "text": [
      "/tmp/ipykernel_321359/353302006.py:4: DtypeWarning: Columns (0,2) have mixed types. Specify dtype option on import or set low_memory=False.\n",
      "  social = pd.read_csv(\"Aggregated_reddit_twitter.csv\")\n"
     ]
    }
   ],
   "source": [
    "import pandas as pd\n",
    "import matplotlib.pyplot as plt\n",
    "\n",
    "social = pd.read_csv(\"Aggregated_reddit_twitter.csv\")\n",
    "social = social.rename(columns={\"date\": \"timestamp\"})\n",
    "social[\"timestamp\"] = pd.to_datetime(social[\"timestamp\"])\n",
    "\n"
   ]
  },
  {
   "cell_type": "code",
   "execution_count": 3,
   "outputs": [],
   "source": [
    "social = social[social.content != \"u/circular360\"]\n",
    "social = social[\n",
    "    social.content != \"Why force the other player to stay around? Just give the winning player the option to continue the game with a perma passing AI controlling the surrendering player.\"]"
   ],
   "metadata": {
    "collapsed": false,
    "ExecuteTime": {
     "start_time": "2023-04-19T15:56:13.809235Z",
     "end_time": "2023-04-19T15:56:15.076363Z"
    }
   }
  },
  {
   "cell_type": "code",
   "execution_count": 4,
   "outputs": [],
   "source": [
    "crypto = pd.read_csv(\"transformed_crypto.csv\")\n",
    "crypto[\"timestamp\"] = pd.to_datetime(crypto[\"timestamp\"]).dt.tz_localize(None)\n"
   ],
   "metadata": {
    "collapsed": false,
    "ExecuteTime": {
     "start_time": "2023-04-19T15:56:15.077228Z",
     "end_time": "2023-04-19T15:56:24.753356Z"
    }
   }
  },
  {
   "cell_type": "code",
   "execution_count": 5,
   "outputs": [],
   "source": [
    "# crypto.dtypes, social.dtypes"
   ],
   "metadata": {
    "collapsed": false,
    "ExecuteTime": {
     "start_time": "2023-04-19T15:56:24.754930Z",
     "end_time": "2023-04-19T15:56:24.756679Z"
    }
   }
  },
  {
   "cell_type": "code",
   "execution_count": 6,
   "outputs": [],
   "source": [
    "social = social.sort_values(by=\"timestamp\")"
   ],
   "metadata": {
    "collapsed": false,
    "ExecuteTime": {
     "start_time": "2023-04-19T15:56:24.757570Z",
     "end_time": "2023-04-19T15:56:25.552751Z"
    }
   }
  },
  {
   "cell_type": "code",
   "execution_count": 7,
   "outputs": [],
   "source": [
    "# social.dtypes\n",
    "sr = social.resample(\"T\", on=\"timestamp\").size()\n",
    "freq = sr.reset_index()\n",
    "\n",
    "freq = freq.rename(columns={0: \"n_comments\"})"
   ],
   "metadata": {
    "collapsed": false,
    "ExecuteTime": {
     "start_time": "2023-04-19T15:56:25.592695Z",
     "end_time": "2023-04-19T15:56:27.225668Z"
    }
   }
  },
  {
   "cell_type": "code",
   "execution_count": 12,
   "outputs": [],
   "source": [
    "mg = pd.merge(crypto, freq, on=\"timestamp\", how=\"outer\")"
   ],
   "metadata": {
    "collapsed": false,
    "ExecuteTime": {
     "start_time": "2023-04-19T15:56:30.280741Z",
     "end_time": "2023-04-19T15:56:30.751399Z"
    }
   }
  },
  {
   "cell_type": "code",
   "execution_count": 13,
   "outputs": [],
   "source": [
    "# freq.idxmax()"
   ],
   "metadata": {
    "collapsed": false,
    "ExecuteTime": {
     "start_time": "2023-04-19T15:56:30.752550Z",
     "end_time": "2023-04-19T15:56:30.754017Z"
    }
   }
  },
  {
   "cell_type": "code",
   "execution_count": 18,
   "outputs": [
    {
     "data": {
      "text/plain": "          Unnamed: 0                      timestamp      XRP-PERP   \ncount  875267.000000                         875267  8.751370e+05  \\\nmean   437633.000000  2021-11-01 00:46:55.206604544 -9.561190e-17   \nmin         0.000000            2021-01-01 00:01:00 -1.594297e+00   \n25%    218816.500000            2021-06-02 01:58:30 -9.192413e-01   \n50%    437633.000000            2021-11-01 01:04:00 -1.691518e-02   \n75%    656449.500000            2022-04-02 00:21:30  6.874922e-01   \nmax    875266.000000            2022-09-01 00:00:00  3.675641e+00   \nstd    252667.963369                            NaN  1.000000e+00   \n\n           SOL-PERP      ETH-PERP     DOGE-PERP      BTC-PERP      APE-PERP  \ncount  8.751400e+05  8.751290e+05  8.751240e+05  8.751220e+05  2.410700e+05  \nmean  -2.348719e-16 -3.346447e-16  4.073959e-16  1.787557e-16  5.281838e-17  \nmin   -1.194694e+00 -1.953565e+00 -1.453949e+00 -2.030118e+00 -1.279958e+00  \n25%   -7.215385e-01 -8.291290e-01 -8.725178e-01 -6.739563e-01 -7.889873e-01  \n50%   -5.248144e-01 -3.172077e-02 -1.936364e-01 -5.533288e-03 -3.825940e-01  \n75%    5.880011e-01  6.975142e-01  6.609572e-01  6.500687e-01  7.625053e-01  \nmax    2.837246e+00  2.381488e+00  5.181731e+00  2.314610e+00  4.510921e+00  \nstd    1.000000e+00  1.000000e+00  1.000000e+00  1.000000e+00  1.000000e+00  ",
      "text/html": "<div>\n<style scoped>\n    .dataframe tbody tr th:only-of-type {\n        vertical-align: middle;\n    }\n\n    .dataframe tbody tr th {\n        vertical-align: top;\n    }\n\n    .dataframe thead th {\n        text-align: right;\n    }\n</style>\n<table border=\"1\" class=\"dataframe\">\n  <thead>\n    <tr style=\"text-align: right;\">\n      <th></th>\n      <th>Unnamed: 0</th>\n      <th>timestamp</th>\n      <th>XRP-PERP</th>\n      <th>SOL-PERP</th>\n      <th>ETH-PERP</th>\n      <th>DOGE-PERP</th>\n      <th>BTC-PERP</th>\n      <th>APE-PERP</th>\n    </tr>\n  </thead>\n  <tbody>\n    <tr>\n      <th>count</th>\n      <td>875267.000000</td>\n      <td>875267</td>\n      <td>8.751370e+05</td>\n      <td>8.751400e+05</td>\n      <td>8.751290e+05</td>\n      <td>8.751240e+05</td>\n      <td>8.751220e+05</td>\n      <td>2.410700e+05</td>\n    </tr>\n    <tr>\n      <th>mean</th>\n      <td>437633.000000</td>\n      <td>2021-11-01 00:46:55.206604544</td>\n      <td>-9.561190e-17</td>\n      <td>-2.348719e-16</td>\n      <td>-3.346447e-16</td>\n      <td>4.073959e-16</td>\n      <td>1.787557e-16</td>\n      <td>5.281838e-17</td>\n    </tr>\n    <tr>\n      <th>min</th>\n      <td>0.000000</td>\n      <td>2021-01-01 00:01:00</td>\n      <td>-1.594297e+00</td>\n      <td>-1.194694e+00</td>\n      <td>-1.953565e+00</td>\n      <td>-1.453949e+00</td>\n      <td>-2.030118e+00</td>\n      <td>-1.279958e+00</td>\n    </tr>\n    <tr>\n      <th>25%</th>\n      <td>218816.500000</td>\n      <td>2021-06-02 01:58:30</td>\n      <td>-9.192413e-01</td>\n      <td>-7.215385e-01</td>\n      <td>-8.291290e-01</td>\n      <td>-8.725178e-01</td>\n      <td>-6.739563e-01</td>\n      <td>-7.889873e-01</td>\n    </tr>\n    <tr>\n      <th>50%</th>\n      <td>437633.000000</td>\n      <td>2021-11-01 01:04:00</td>\n      <td>-1.691518e-02</td>\n      <td>-5.248144e-01</td>\n      <td>-3.172077e-02</td>\n      <td>-1.936364e-01</td>\n      <td>-5.533288e-03</td>\n      <td>-3.825940e-01</td>\n    </tr>\n    <tr>\n      <th>75%</th>\n      <td>656449.500000</td>\n      <td>2022-04-02 00:21:30</td>\n      <td>6.874922e-01</td>\n      <td>5.880011e-01</td>\n      <td>6.975142e-01</td>\n      <td>6.609572e-01</td>\n      <td>6.500687e-01</td>\n      <td>7.625053e-01</td>\n    </tr>\n    <tr>\n      <th>max</th>\n      <td>875266.000000</td>\n      <td>2022-09-01 00:00:00</td>\n      <td>3.675641e+00</td>\n      <td>2.837246e+00</td>\n      <td>2.381488e+00</td>\n      <td>5.181731e+00</td>\n      <td>2.314610e+00</td>\n      <td>4.510921e+00</td>\n    </tr>\n    <tr>\n      <th>std</th>\n      <td>252667.963369</td>\n      <td>NaN</td>\n      <td>1.000000e+00</td>\n      <td>1.000000e+00</td>\n      <td>1.000000e+00</td>\n      <td>1.000000e+00</td>\n      <td>1.000000e+00</td>\n      <td>1.000000e+00</td>\n    </tr>\n  </tbody>\n</table>\n</div>"
     },
     "execution_count": 18,
     "metadata": {},
     "output_type": "execute_result"
    }
   ],
   "source": [
    "# freq.iloc[52981]\n",
    "crypto.describe()"
   ],
   "metadata": {
    "collapsed": false,
    "ExecuteTime": {
     "start_time": "2023-04-19T15:57:12.246480Z",
     "end_time": "2023-04-19T15:57:12.409783Z"
    }
   }
  },
  {
   "cell_type": "code",
   "execution_count": 19,
   "outputs": [
    {
     "data": {
      "text/plain": "                           timestamp         likes       replies  other_scores\ncount                        1598505  1.598505e+06  1.598505e+06           0.0\nmean   2022-12-13 06:16:50.397362944  6.699567e+00  9.253415e-01           NaN\nmin              2022-11-03 19:32:10 -2.086000e+03  0.000000e+00           NaN\n25%              2022-11-21 11:11:08  1.000000e+00  0.000000e+00           NaN\n50%              2022-12-12 10:53:37  1.000000e+00  0.000000e+00           NaN\n75%              2023-01-03 22:57:18  3.000000e+00  0.000000e+00           NaN\nmax              2023-02-04 06:25:59  4.466200e+04  9.593000e+03           NaN\nstd                              NaN  1.011696e+02  2.110393e+01           NaN",
      "text/html": "<div>\n<style scoped>\n    .dataframe tbody tr th:only-of-type {\n        vertical-align: middle;\n    }\n\n    .dataframe tbody tr th {\n        vertical-align: top;\n    }\n\n    .dataframe thead th {\n        text-align: right;\n    }\n</style>\n<table border=\"1\" class=\"dataframe\">\n  <thead>\n    <tr style=\"text-align: right;\">\n      <th></th>\n      <th>timestamp</th>\n      <th>likes</th>\n      <th>replies</th>\n      <th>other_scores</th>\n    </tr>\n  </thead>\n  <tbody>\n    <tr>\n      <th>count</th>\n      <td>1598505</td>\n      <td>1.598505e+06</td>\n      <td>1.598505e+06</td>\n      <td>0.0</td>\n    </tr>\n    <tr>\n      <th>mean</th>\n      <td>2022-12-13 06:16:50.397362944</td>\n      <td>6.699567e+00</td>\n      <td>9.253415e-01</td>\n      <td>NaN</td>\n    </tr>\n    <tr>\n      <th>min</th>\n      <td>2022-11-03 19:32:10</td>\n      <td>-2.086000e+03</td>\n      <td>0.000000e+00</td>\n      <td>NaN</td>\n    </tr>\n    <tr>\n      <th>25%</th>\n      <td>2022-11-21 11:11:08</td>\n      <td>1.000000e+00</td>\n      <td>0.000000e+00</td>\n      <td>NaN</td>\n    </tr>\n    <tr>\n      <th>50%</th>\n      <td>2022-12-12 10:53:37</td>\n      <td>1.000000e+00</td>\n      <td>0.000000e+00</td>\n      <td>NaN</td>\n    </tr>\n    <tr>\n      <th>75%</th>\n      <td>2023-01-03 22:57:18</td>\n      <td>3.000000e+00</td>\n      <td>0.000000e+00</td>\n      <td>NaN</td>\n    </tr>\n    <tr>\n      <th>max</th>\n      <td>2023-02-04 06:25:59</td>\n      <td>4.466200e+04</td>\n      <td>9.593000e+03</td>\n      <td>NaN</td>\n    </tr>\n    <tr>\n      <th>std</th>\n      <td>NaN</td>\n      <td>1.011696e+02</td>\n      <td>2.110393e+01</td>\n      <td>NaN</td>\n    </tr>\n  </tbody>\n</table>\n</div>"
     },
     "execution_count": 19,
     "metadata": {},
     "output_type": "execute_result"
    }
   ],
   "source": [
    "social.describe()"
   ],
   "metadata": {
    "collapsed": false,
    "ExecuteTime": {
     "start_time": "2023-04-19T15:57:31.776386Z",
     "end_time": "2023-04-19T15:57:31.936523Z"
    }
   }
  },
  {
   "cell_type": "code",
   "execution_count": 16,
   "outputs": [],
   "source": [
    "# social.between_time('2022-11-09 13:58:00', \"2022-11-09 14:00:00\")\n",
    "# social.loc[(social['timestamp'] > '2022-12-10 14:32:00') & (social['timestamp'] < \"2022-12-10 14:34:00\")]"
   ],
   "metadata": {
    "collapsed": false,
    "ExecuteTime": {
     "start_time": "2023-04-19T15:56:42.627945Z",
     "end_time": "2023-04-19T15:56:42.633057Z"
    }
   }
  },
  {
   "cell_type": "code",
   "execution_count": 17,
   "outputs": [
    {
     "data": {
      "text/plain": "       Unnamed: 0            timestamp  XRP-PERP  SOL-PERP  ETH-PERP   \ncount         0.0                35999       0.0       0.0       0.0  \\\nmean          NaN  2022-12-13 12:00:00       NaN       NaN       NaN   \nmin           NaN  2022-12-01 00:01:00       NaN       NaN       NaN   \n25%           NaN  2022-12-07 06:00:30       NaN       NaN       NaN   \n50%           NaN  2022-12-13 12:00:00       NaN       NaN       NaN   \n75%           NaN  2022-12-19 17:59:30       NaN       NaN       NaN   \nmax           NaN  2022-12-25 23:59:00       NaN       NaN       NaN   \nstd           NaN                  NaN       NaN       NaN       NaN   \n\n       DOGE-PERP  BTC-PERP  APE-PERP    n_comments  \ncount        0.0       0.0       0.0  35999.000000  \nmean         NaN       NaN       NaN     12.446179  \nmin          NaN       NaN       NaN      0.000000  \n25%          NaN       NaN       NaN      8.000000  \n50%          NaN       NaN       NaN     12.000000  \n75%          NaN       NaN       NaN     16.000000  \nmax          NaN       NaN       NaN    152.000000  \nstd          NaN       NaN       NaN      6.334004  ",
      "text/html": "<div>\n<style scoped>\n    .dataframe tbody tr th:only-of-type {\n        vertical-align: middle;\n    }\n\n    .dataframe tbody tr th {\n        vertical-align: top;\n    }\n\n    .dataframe thead th {\n        text-align: right;\n    }\n</style>\n<table border=\"1\" class=\"dataframe\">\n  <thead>\n    <tr style=\"text-align: right;\">\n      <th></th>\n      <th>Unnamed: 0</th>\n      <th>timestamp</th>\n      <th>XRP-PERP</th>\n      <th>SOL-PERP</th>\n      <th>ETH-PERP</th>\n      <th>DOGE-PERP</th>\n      <th>BTC-PERP</th>\n      <th>APE-PERP</th>\n      <th>n_comments</th>\n    </tr>\n  </thead>\n  <tbody>\n    <tr>\n      <th>count</th>\n      <td>0.0</td>\n      <td>35999</td>\n      <td>0.0</td>\n      <td>0.0</td>\n      <td>0.0</td>\n      <td>0.0</td>\n      <td>0.0</td>\n      <td>0.0</td>\n      <td>35999.000000</td>\n    </tr>\n    <tr>\n      <th>mean</th>\n      <td>NaN</td>\n      <td>2022-12-13 12:00:00</td>\n      <td>NaN</td>\n      <td>NaN</td>\n      <td>NaN</td>\n      <td>NaN</td>\n      <td>NaN</td>\n      <td>NaN</td>\n      <td>12.446179</td>\n    </tr>\n    <tr>\n      <th>min</th>\n      <td>NaN</td>\n      <td>2022-12-01 00:01:00</td>\n      <td>NaN</td>\n      <td>NaN</td>\n      <td>NaN</td>\n      <td>NaN</td>\n      <td>NaN</td>\n      <td>NaN</td>\n      <td>0.000000</td>\n    </tr>\n    <tr>\n      <th>25%</th>\n      <td>NaN</td>\n      <td>2022-12-07 06:00:30</td>\n      <td>NaN</td>\n      <td>NaN</td>\n      <td>NaN</td>\n      <td>NaN</td>\n      <td>NaN</td>\n      <td>NaN</td>\n      <td>8.000000</td>\n    </tr>\n    <tr>\n      <th>50%</th>\n      <td>NaN</td>\n      <td>2022-12-13 12:00:00</td>\n      <td>NaN</td>\n      <td>NaN</td>\n      <td>NaN</td>\n      <td>NaN</td>\n      <td>NaN</td>\n      <td>NaN</td>\n      <td>12.000000</td>\n    </tr>\n    <tr>\n      <th>75%</th>\n      <td>NaN</td>\n      <td>2022-12-19 17:59:30</td>\n      <td>NaN</td>\n      <td>NaN</td>\n      <td>NaN</td>\n      <td>NaN</td>\n      <td>NaN</td>\n      <td>NaN</td>\n      <td>16.000000</td>\n    </tr>\n    <tr>\n      <th>max</th>\n      <td>NaN</td>\n      <td>2022-12-25 23:59:00</td>\n      <td>NaN</td>\n      <td>NaN</td>\n      <td>NaN</td>\n      <td>NaN</td>\n      <td>NaN</td>\n      <td>NaN</td>\n      <td>152.000000</td>\n    </tr>\n    <tr>\n      <th>std</th>\n      <td>NaN</td>\n      <td>NaN</td>\n      <td>NaN</td>\n      <td>NaN</td>\n      <td>NaN</td>\n      <td>NaN</td>\n      <td>NaN</td>\n      <td>NaN</td>\n      <td>6.334004</td>\n    </tr>\n  </tbody>\n</table>\n</div>"
     },
     "execution_count": 17,
     "metadata": {},
     "output_type": "execute_result"
    }
   ],
   "source": [
    "import pandas as pd\n",
    "import numpy as np\n",
    "import statsmodels.api as sm\n",
    "from statsmodels.tsa.arima.model import ARIMA\n",
    "from statsmodels.tsa.statespace.sarimax import SARIMAX\n",
    "from statsmodels.graphics.tsaplots import plot_acf, plot_pacf\n",
    "import matplotlib.pyplot as plt\n",
    "\n",
    "\n",
    "\n",
    "mg =  mg.loc[(mg['timestamp'] > '2021-12-1 00:00:00') & (mg['timestamp'] < \"2021-12-25 23:59:59\")]\n",
    "mg.describe()"
   ],
   "metadata": {
    "collapsed": false,
    "ExecuteTime": {
     "start_time": "2023-04-19T15:56:43.315483Z",
     "end_time": "2023-04-19T15:56:43.367830Z"
    }
   }
  },
  {
   "cell_type": "code",
   "execution_count": null,
   "outputs": [
    {
     "data": {
      "text/plain": "<Figure size 640x480 with 1 Axes>",
      "image/png": "[encoded data removed]"
     },
     "metadata": {},
     "output_type": "display_data"
    },
    {
     "name": "stderr",
     "output_type": "stream",
     "text": [
      "/home/dario/PycharmProjects/BAINSACryptocurrencies/venv/lib/python3.10/site-packages/statsmodels/graphics/tsaplots.py:348: FutureWarning: The default method 'yw' can produce PACF values outside of the [-1,1] interval. After 0.13, the default will change tounadjusted Yule-Walker ('ywm'). You can use this method now by setting method='ywm'.\n",
      "  warnings.warn(\n"
     ]
    },
    {
     "data": {
      "text/plain": "<Figure size 640x480 with 1 Axes>",
      "image/png": "[encoded data removed]"
     },
     "metadata": {},
     "output_type": "display_data"
    },
    {
     "name": "stderr",
     "output_type": "stream",
     "text": [
      "/home/dario/PycharmProjects/BAINSACryptocurrencies/venv/lib/python3.10/site-packages/statsmodels/tsa/base/tsa_model.py:471: ValueWarning: A date index has been provided, but it has no associated frequency information and so will be ignored when e.g. forecasting.\n",
      "  self._init_dates(dates, freq)\n",
      "/home/dario/PycharmProjects/BAINSACryptocurrencies/venv/lib/python3.10/site-packages/statsmodels/tsa/base/tsa_model.py:471: ValueWarning: A date index has been provided, but it has no associated frequency information and so will be ignored when e.g. forecasting.\n",
      "  self._init_dates(dates, freq)\n",
      " This problem is unconstrained.\n"
     ]
    },
    {
     "name": "stdout",
     "output_type": "stream",
     "text": [
      "RUNNING THE L-BFGS-B CODE\n",
      "\n",
      "           * * *\n",
      "\n",
      "Machine precision = 2.220D-16\n",
      " N =            4     M =           10\n",
      "\n",
      "At X0         0 variables are exactly at the bounds\n",
      "\n",
      "At iterate    0    f= -3.81107D+00    |proj g|=  8.15994D+00\n",
      "\n",
      "At iterate    5    f= -4.11743D+00    |proj g|=  7.23715D-01\n",
      "\n",
      "           * * *\n",
      "\n",
      "Tit   = total number of iterations\n",
      "Tnf   = total number of function evaluations\n",
      "Tnint = total number of segments explored during Cauchy searches\n",
      "Skip  = number of BFGS updates skipped\n",
      "Nact  = number of active bounds at final generalized Cauchy point\n",
      "Projg = norm of the final projected gradient\n",
      "F     = final function value\n",
      "\n",
      "           * * *\n",
      "\n",
      "   N    Tit     Tnf  Tnint  Skip  Nact     Projg        F\n",
      "    4      9     19      1     0     0   2.960D-05  -4.117D+00\n",
      "  F =  -4.1174480711967743     \n",
      "\n",
      "CONVERGENCE: REL_REDUCTION_OF_F_<=_FACTR*EPSMCH             \n"
     ]
    }
   ],
   "source": [
    "\n",
    "\n",
    "\n",
    "\n",
    "# Assuming you have a pandas DataFrame named \"mg\" with a timestamp column named \"timestamp\"\n",
    "# Make sure the timestamp column is of datetime type\n",
    "mg['timestamp'] = pd.to_datetime(mg['timestamp'])\n",
    "\n",
    "# Set the timestamp column as the index\n",
    "mg.set_index('timestamp', inplace=True)\n",
    "\n",
    "# Resample the data if needed (e.g., to daily frequency)\n",
    "# mg = mg.resample('D').mean()\n",
    "\n",
    "# Add day of the week as an external variable\n",
    "mg['day_of_week'] = mg.index.dayofweek\n",
    "\n",
    "# Fill any missing values\n",
    "mg.fillna(method='ffill', inplace=True)\n",
    "\n",
    "# Plot the autocorrelation and partial autocorrelation functions\n",
    "# plot_acf(mg['BTC-PERP'])\n",
    "# plt.show()\n",
    "#\n",
    "# plot_pacf(mg['BTC-PERP'])\n",
    "# plt.show()\n",
    "\n",
    "# Fit the ARIMA model (you can change the order and seasonal_order based on the plots above)\n",
    "model = SARIMAX(mg['BTC-PERP'], exog=mg['day_of_week'], order=(1, 0, 0), seasonal_order=(0, 0, 0, 0), trend='c')\n",
    "results = model.fit()\n",
    "\n",
    "# Print the model summary\n",
    "print(results.summary())\n",
    "\n",
    "# Make predictions\n",
    "predictions = results.get_prediction(start=pd.to_datetime('2023-01-01'), end=pd.to_datetime('2023-04-01'), exog=mg.loc['2023-01-01':'2023-04-01', 'day_of_week'])\n",
    "\n",
    "# Plot the predictions\n",
    "plt.plot(mg['BTC-PERP'], label='Observed')\n",
    "plt.plot(predictions.predicted_mean, label='Predicted', linestyle='--')\n",
    "plt.legend()\n",
    "plt.show()"
   ],
   "metadata": {
    "collapsed": false,
    "pycharm": {
     "is_executing": true
    }
   }
  },
  {
   "cell_type": "code",
   "execution_count": null,
   "outputs": [],
   "source": [],
   "metadata": {
    "collapsed": false
   }
  }
 ],
 "metadata": {
  "kernelspec": {
   "display_name": "Python 3",
   "language": "python",
   "name": "python3"
  },
  "language_info": {
   "codemirror_mode": {
    "name": "ipython",
    "version": 2
   },
   "file_extension": ".py",
   "mimetype": "text/x-python",
   "name": "python",
   "nbconvert_exporter": "python",
   "pygments_lexer": "ipython2",
   "version": "2.7.6"
  }
 },
 "nbformat": 4,
 "nbformat_minor": 0
}
