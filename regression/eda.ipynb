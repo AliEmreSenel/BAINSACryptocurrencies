{
 "cells": [
  {
   "cell_type": "code",
   "execution_count": 1,
   "metadata": {
    "collapsed": true,
    "ExecuteTime": {
     "start_time": "2023-04-27T09:47:23.483917Z",
     "end_time": "2023-04-27T09:47:36.491467Z"
    }
   },
   "outputs": [
    {
     "name": "stderr",
     "output_type": "stream",
     "text": [
      "/tmp/ipykernel_65588/353302006.py:4: DtypeWarning: Columns (0,2) have mixed types. Specify dtype option on import or set low_memory=False.\n",
      "  social = pd.read_csv(\"Aggregated_reddit_twitter.csv\")\n"
     ]
    }
   ],
   "source": [
    "import pandas as pd\n",
    "import numpy as np\n",
    "import matplotlib.pyplot as plt\n",
    "\n",
    "social = pd.read_csv(\"Aggregated_reddit_twitter.csv\")\n",
    "social = social.rename(columns={\"date\": \"timestamp\"})\n",
    "social[\"timestamp\"] = pd.to_datetime(social[\"timestamp\"])\n",
    "\n"
   ]
  },
  {
   "cell_type": "code",
   "execution_count": 68,
   "outputs": [],
   "source": [
    "social = social[social.content != \"u/circular360\"]\n",
    "social = social[social.content != \"There you go\"]\n",
    "social = social[\n",
    "    social.content != \"Why force the other player to stay around? Just give the winning player the option to continue the game with a perma passing AI controlling the surrendering player.\"]\n",
    "# crypto = pd.read_csv(\"transformed_crypto.csv\")\n",
    "# crypto[\"timestamp\"] = pd.to_datetime(crypto[\"timestamp\"]).dt.tz_localize(None)\n",
    "crypto = pd.read_csv(\"crypto_differences.csv\")\n",
    "crypto[\"timestamp\"] = pd.to_datetime(crypto[\"timestamp\"]).dt.tz_localize(None)\n",
    "\n",
    "social = social.sort_values(by=\"timestamp\")\n",
    "# social.dtypes\n",
    "sr = social.resample(\"T\", on=\"timestamp\").size()\n",
    "freq = sr.reset_index()\n",
    "\n",
    "freq = freq.rename(columns={0: \"n_comments\"})"
   ],
   "metadata": {
    "collapsed": false,
    "ExecuteTime": {
     "start_time": "2023-04-27T09:56:57.216288Z",
     "end_time": "2023-04-27T09:56:59.275439Z"
    }
   }
  },
  {
   "cell_type": "markdown",
   "source": [],
   "metadata": {
    "collapsed": false
   }
  },
  {
   "cell_type": "code",
   "execution_count": 211,
   "outputs": [
    {
     "data": {
      "text/plain": "                  timestamp  n_comments  hour  day  month\n0       2021-03-01 00:00:00          18     0    0      3\n1       2021-03-01 00:01:00           8     0    0      3\n2       2021-03-01 00:02:00           4     0    0      3\n3       2021-03-01 00:03:00          11     0    0      3\n4       2021-03-01 00:04:00           4     0    0      3\n...                     ...         ...   ...  ...    ...\n1126679 2023-04-22 09:59:00           0     9    5      4\n1126680 2023-04-22 10:00:00           0    10    5      4\n1126681 2023-04-22 10:01:00           0    10    5      4\n1126682 2023-04-22 10:02:00           0    10    5      4\n1126683 2023-04-22 10:03:00           1    10    5      4\n\n[1126684 rows x 5 columns]",
      "text/html": "<div>\n<style scoped>\n    .dataframe tbody tr th:only-of-type {\n        vertical-align: middle;\n    }\n\n    .dataframe tbody tr th {\n        vertical-align: top;\n    }\n\n    .dataframe thead th {\n        text-align: right;\n    }\n</style>\n<table border=\"1\" class=\"dataframe\">\n  <thead>\n    <tr style=\"text-align: right;\">\n      <th></th>\n      <th>timestamp</th>\n      <th>n_comments</th>\n      <th>hour</th>\n      <th>day</th>\n      <th>month</th>\n    </tr>\n  </thead>\n  <tbody>\n    <tr>\n      <th>0</th>\n      <td>2021-03-01 00:00:00</td>\n      <td>18</td>\n      <td>0</td>\n      <td>0</td>\n      <td>3</td>\n    </tr>\n    <tr>\n      <th>1</th>\n      <td>2021-03-01 00:01:00</td>\n      <td>8</td>\n      <td>0</td>\n      <td>0</td>\n      <td>3</td>\n    </tr>\n    <tr>\n      <th>2</th>\n      <td>2021-03-01 00:02:00</td>\n      <td>4</td>\n      <td>0</td>\n      <td>0</td>\n      <td>3</td>\n    </tr>\n    <tr>\n      <th>3</th>\n      <td>2021-03-01 00:03:00</td>\n      <td>11</td>\n      <td>0</td>\n      <td>0</td>\n      <td>3</td>\n    </tr>\n    <tr>\n      <th>4</th>\n      <td>2021-03-01 00:04:00</td>\n      <td>4</td>\n      <td>0</td>\n      <td>0</td>\n      <td>3</td>\n    </tr>\n    <tr>\n      <th>...</th>\n      <td>...</td>\n      <td>...</td>\n      <td>...</td>\n      <td>...</td>\n      <td>...</td>\n    </tr>\n    <tr>\n      <th>1126679</th>\n      <td>2023-04-22 09:59:00</td>\n      <td>0</td>\n      <td>9</td>\n      <td>5</td>\n      <td>4</td>\n    </tr>\n    <tr>\n      <th>1126680</th>\n      <td>2023-04-22 10:00:00</td>\n      <td>0</td>\n      <td>10</td>\n      <td>5</td>\n      <td>4</td>\n    </tr>\n    <tr>\n      <th>1126681</th>\n      <td>2023-04-22 10:01:00</td>\n      <td>0</td>\n      <td>10</td>\n      <td>5</td>\n      <td>4</td>\n    </tr>\n    <tr>\n      <th>1126682</th>\n      <td>2023-04-22 10:02:00</td>\n      <td>0</td>\n      <td>10</td>\n      <td>5</td>\n      <td>4</td>\n    </tr>\n    <tr>\n      <th>1126683</th>\n      <td>2023-04-22 10:03:00</td>\n      <td>1</td>\n      <td>10</td>\n      <td>5</td>\n      <td>4</td>\n    </tr>\n  </tbody>\n</table>\n<p>1126684 rows × 5 columns</p>\n</div>"
     },
     "execution_count": 211,
     "metadata": {},
     "output_type": "execute_result"
    }
   ],
   "source": [
    "freq[\"hour\"] = freq[\"timestamp\"].dt.hour\n",
    "freq[\"day\"] = freq[\"timestamp\"].dt.dayofweek\n",
    "freq[\"month\"] = freq[\"timestamp\"].dt.month\n",
    "freq"
   ],
   "metadata": {
    "collapsed": false,
    "ExecuteTime": {
     "start_time": "2023-04-27T10:35:56.869569Z",
     "end_time": "2023-04-27T10:35:56.960402Z"
    }
   }
  },
  {
   "cell_type": "code",
   "execution_count": 213,
   "outputs": [],
   "source": [
    "mg = pd.merge(crypto, freq, on=\"timestamp\", how=\"inner\")"
   ],
   "metadata": {
    "collapsed": false,
    "ExecuteTime": {
     "start_time": "2023-04-27T10:35:57.798591Z",
     "end_time": "2023-04-27T10:35:58.279805Z"
    }
   }
  },
  {
   "cell_type": "code",
   "execution_count": 217,
   "outputs": [],
   "source": [
    "import torch\n",
    "import torch.nn as nn\n",
    "from torch.utils.data import Dataset\n"
   ],
   "metadata": {
    "collapsed": false,
    "ExecuteTime": {
     "start_time": "2023-04-27T10:36:03.353323Z",
     "end_time": "2023-04-27T10:36:03.359023Z"
    }
   }
  },
  {
   "cell_type": "code",
   "execution_count": 218,
   "outputs": [
    {
     "data": {
      "text/plain": "Empty DataFrame\nColumns: [Unnamed: 0, timestamp, XRP-PERP, SOL-PERP, ETH-PERP, DOGE-PERP, BTC-PERP, APE-PERP, n_comments, hour, day, month]\nIndex: []",
      "text/html": "<div>\n<style scoped>\n    .dataframe tbody tr th:only-of-type {\n        vertical-align: middle;\n    }\n\n    .dataframe tbody tr th {\n        vertical-align: top;\n    }\n\n    .dataframe thead th {\n        text-align: right;\n    }\n</style>\n<table border=\"1\" class=\"dataframe\">\n  <thead>\n    <tr style=\"text-align: right;\">\n      <th></th>\n      <th>Unnamed: 0</th>\n      <th>timestamp</th>\n      <th>XRP-PERP</th>\n      <th>SOL-PERP</th>\n      <th>ETH-PERP</th>\n      <th>DOGE-PERP</th>\n      <th>BTC-PERP</th>\n      <th>APE-PERP</th>\n      <th>n_comments</th>\n      <th>hour</th>\n      <th>day</th>\n      <th>month</th>\n    </tr>\n  </thead>\n  <tbody>\n  </tbody>\n</table>\n</div>"
     },
     "execution_count": 218,
     "metadata": {},
     "output_type": "execute_result"
    }
   ],
   "source": [
    "shortmg = mg.loc[0:5000]\n",
    "shortmg.dropna()"
   ],
   "metadata": {
    "collapsed": false,
    "ExecuteTime": {
     "start_time": "2023-04-27T10:36:04.703180Z",
     "end_time": "2023-04-27T10:36:04.714862Z"
    }
   }
  },
  {
   "cell_type": "code",
   "execution_count": 220,
   "outputs": [],
   "source": [
    "LAG = 30\n",
    "\n",
    "\n",
    "class TimeSeriesDataset(Dataset):\n",
    "    def __init__(self, X_data, y_data):\n",
    "        self.X_data = X_data\n",
    "        self.y_data = y_data\n",
    "\n",
    "    def __getitem__(self, index):\n",
    "        return self.X_data[index], self.y_data[index]\n",
    "\n",
    "    def __len__(self):\n",
    "        return len(self.X_data)\n",
    "\n",
    "\n",
    "class MyTimeSeriesDataset(Dataset):\n",
    "    def __init__(self, X_data, y_data):\n",
    "        self.X_data = X_data\n",
    "        self.y_data = y_data\n",
    "\n",
    "    def __getitem__(self, index):\n",
    "        return self.X_data.loc[index], self.y_data[index]\n",
    "\n",
    "    def __len__(self):\n",
    "        return len(self.X_data)\n",
    "\n",
    "# data = MyTimeSeriesDataset(X_data=shortmg[['n_comments', 'XRP-PERP', 'ETH-PERP']], y_data=shortmg['BTC-PERP'])"
   ],
   "metadata": {
    "collapsed": false,
    "ExecuteTime": {
     "start_time": "2023-04-27T10:36:31.740655Z",
     "end_time": "2023-04-27T10:36:31.787635Z"
    }
   }
  },
  {
   "cell_type": "code",
   "execution_count": 260,
   "outputs": [
    {
     "name": "stdout",
     "output_type": "stream",
     "text": [
      "[0.]\n"
     ]
    },
    {
     "name": "stderr",
     "output_type": "stream",
     "text": [
      "/tmp/ipykernel_65588/779514586.py:12: SettingWithCopyWarning: \n",
      "A value is trying to be set on a copy of a slice from a DataFrame.\n",
      "Try using .loc[row_indexer,col_indexer] = value instead\n",
      "\n",
      "See the caveats in the documentation: https://pandas.pydata.org/pandas-docs/stable/user_guide/indexing.html#returning-a-view-versus-a-copy\n",
      "  scaled_data[x] = scaled_data[x].apply(lambda x: 1 if x > 0 else 0)\n",
      "/tmp/ipykernel_65588/779514586.py:12: SettingWithCopyWarning: \n",
      "A value is trying to be set on a copy of a slice from a DataFrame.\n",
      "Try using .loc[row_indexer,col_indexer] = value instead\n",
      "\n",
      "See the caveats in the documentation: https://pandas.pydata.org/pandas-docs/stable/user_guide/indexing.html#returning-a-view-versus-a-copy\n",
      "  scaled_data[x] = scaled_data[x].apply(lambda x: 1 if x > 0 else 0)\n",
      "/tmp/ipykernel_65588/779514586.py:12: SettingWithCopyWarning: \n",
      "A value is trying to be set on a copy of a slice from a DataFrame.\n",
      "Try using .loc[row_indexer,col_indexer] = value instead\n",
      "\n",
      "See the caveats in the documentation: https://pandas.pydata.org/pandas-docs/stable/user_guide/indexing.html#returning-a-view-versus-a-copy\n",
      "  scaled_data[x] = scaled_data[x].apply(lambda x: 1 if x > 0 else 0)\n",
      "/tmp/ipykernel_65588/779514586.py:12: SettingWithCopyWarning: \n",
      "A value is trying to be set on a copy of a slice from a DataFrame.\n",
      "Try using .loc[row_indexer,col_indexer] = value instead\n",
      "\n",
      "See the caveats in the documentation: https://pandas.pydata.org/pandas-docs/stable/user_guide/indexing.html#returning-a-view-versus-a-copy\n",
      "  scaled_data[x] = scaled_data[x].apply(lambda x: 1 if x > 0 else 0)\n",
      "/tmp/ipykernel_65588/779514586.py:12: SettingWithCopyWarning: \n",
      "A value is trying to be set on a copy of a slice from a DataFrame.\n",
      "Try using .loc[row_indexer,col_indexer] = value instead\n",
      "\n",
      "See the caveats in the documentation: https://pandas.pydata.org/pandas-docs/stable/user_guide/indexing.html#returning-a-view-versus-a-copy\n",
      "  scaled_data[x] = scaled_data[x].apply(lambda x: 1 if x > 0 else 0)\n"
     ]
    }
   ],
   "source": [
    "# Load your dataset into a pandas DataFrame called 'data'\n",
    "from sklearn.preprocessing import MinMaxScaler\n",
    "\n",
    "# Scale the features using MinMaxScaler\n",
    "cs = ['XRP-PERP', 'ETH-PERP', 'BTC-PERP', 'SOL-PERP', 'DOGE-PERP']\n",
    "scaled_data = shortmg[cs + [\"hour\", \"day\", \"month\", \"n_comments\"]]\n",
    "# scaled_data = shortmg[['XRP-PERP', 'ETH-PERP', 'BTC-PERP', 'SOL-PERP', 'DOGE-PERP', 'n_comments']].to_numpy()\n",
    "\n",
    "\n",
    "# to make classifier\n",
    "# for x in cs:\n",
    "#     scaled_data[x] = scaled_data[x].apply(lambda x: 1 if x > 0 else 0)\n",
    "\n",
    "scaled_data = scaled_data.to_numpy()\n",
    "\n",
    "scaler = MinMaxScaler()\n",
    "\n",
    "scaled_data = scaler.fit_transform(scaled_data)\n",
    "#\n",
    "# Create sequences and targets for the RNN model\n",
    "seq_length = 60\n",
    "X_data = []\n",
    "y_data = []\n",
    "\n",
    "future = 0\n",
    "\n",
    "for i in range(len(scaled_data) - seq_length - future):\n",
    "    X_data.append(scaled_data[i:i + seq_length])\n",
    "    y_data.append(scaled_data[i + seq_length + future])\n",
    "\n",
    "y_data = np.delete(y_data, [-1, -2, -3, -4], axis=1)\n",
    "# y_data = np.delete(y_data, [-1, -2, -3, -4, -5, -6, -7, -8], axis=1)\n",
    "print(y_data[1])\n",
    "X_data, y_data = np.array(X_data), np.array(y_data)"
   ],
   "metadata": {
    "collapsed": false,
    "ExecuteTime": {
     "start_time": "2023-04-27T10:56:33.310234Z",
     "end_time": "2023-04-27T10:56:33.351499Z"
    }
   }
  },
  {
   "cell_type": "code",
   "execution_count": 261,
   "outputs": [],
   "source": [
    "train_size = int(len(X_data) * 0.8)\n",
    "X_train, X_test = X_data[:train_size], X_data[train_size:]\n",
    "y_train, y_test = y_data[:train_size], y_data[train_size:]"
   ],
   "metadata": {
    "collapsed": false,
    "ExecuteTime": {
     "start_time": "2023-04-27T10:56:33.524939Z",
     "end_time": "2023-04-27T10:56:33.536037Z"
    }
   }
  },
  {
   "cell_type": "code",
   "execution_count": 262,
   "outputs": [],
   "source": [
    "from torch.utils.data import DataLoader\n",
    "\n",
    "batch_size = 64\n",
    "train_dataset = TimeSeriesDataset(torch.from_numpy(X_train).float(), torch.from_numpy(y_train).float())\n",
    "test_dataset = TimeSeriesDataset(torch.from_numpy(X_test).float(), torch.from_numpy(y_test).float())\n",
    "\n",
    "train_loader = DataLoader(dataset=train_dataset, batch_size=batch_size, shuffle=True)\n",
    "test_loader = DataLoader(dataset=test_dataset, batch_size=batch_size, shuffle=False)"
   ],
   "metadata": {
    "collapsed": false,
    "ExecuteTime": {
     "start_time": "2023-04-27T10:56:33.892591Z",
     "end_time": "2023-04-27T10:56:33.898829Z"
    }
   }
  },
  {
   "cell_type": "code",
   "execution_count": 270,
   "outputs": [
    {
     "data": {
      "text/plain": "(4901,)"
     },
     "execution_count": 270,
     "metadata": {},
     "output_type": "execute_result"
    }
   ],
   "source": [
    "# classifier\n",
    "# y_data = y_data.flatten()\n",
    "# y_data.shape"
   ],
   "metadata": {
    "collapsed": false,
    "ExecuteTime": {
     "start_time": "2023-04-27T10:56:59.885520Z",
     "end_time": "2023-04-27T10:56:59.894750Z"
    }
   }
  },
  {
   "cell_type": "code",
   "execution_count": 271,
   "outputs": [],
   "source": [
    "class RNNModel(nn.Module):\n",
    "    def __init__(self, input_size, hidden_size, num_layers, output_size):\n",
    "        super(RNNModel, self).__init__()\n",
    "\n",
    "        self.rnn = nn.RNN(input_size, hidden_size, num_layers, batch_first=True)\n",
    "        self.fc = nn.Linear(hidden_size, output_size)\n",
    "\n",
    "    def forward(self, x):\n",
    "        out, _ = self.rnn(x)\n",
    "        out = self.fc(out[:, -1, :])\n",
    "        return out\n",
    "\n",
    "\n",
    "class TransformerModel(nn.Module):\n",
    "    def __init__(self, input_size, d_model, nhead, num_layers, output_size):\n",
    "        super(TransformerModel, self).__init__()\n",
    "\n",
    "        self.embedding = nn.Linear(input_size, d_model)\n",
    "        self.transformer_encoder_layer = nn.TransformerEncoderLayer(d_model, nhead)\n",
    "        self.transformer_encoder = nn.TransformerEncoder(self.transformer_encoder_layer, num_layers)\n",
    "        self.fc = nn.Linear(d_model, output_size)\n",
    "\n",
    "    def forward(self, x):\n",
    "        x = self.embedding(x)\n",
    "        x = x.transpose(0, 1)\n",
    "        x = self.transformer_encoder(x)\n",
    "        x = x.transpose(0, 1)\n",
    "        x = self.fc(x[:, -1, :])\n",
    "        return x\n",
    "\n"
   ],
   "metadata": {
    "collapsed": false,
    "ExecuteTime": {
     "start_time": "2023-04-27T10:57:00.294925Z",
     "end_time": "2023-04-27T10:57:00.303427Z"
    }
   }
  },
  {
   "cell_type": "code",
   "execution_count": 280,
   "outputs": [],
   "source": [
    "from torch import optim\n",
    "import torch.nn.functional as f\n",
    "\n",
    "\n",
    "input_size = X_data.shape[2]\n",
    "hidden_size = 256\n",
    "num_layers = 8\n",
    "output_size = y_data.shape[1]\n",
    "# output_size = 1\n",
    "\n",
    "model = RNNModel(input_size, hidden_size, num_layers, output_size)\n",
    "# model = TransformerModel(input_size, d_model=32, nhead=2, num_layers=2, output_size=output_size)\n",
    "criterion = nn.NLLLoss()\n",
    "optimizer = optim.Adam(model.parameters(), lr=0.001)"
   ],
   "metadata": {
    "collapsed": false,
    "ExecuteTime": {
     "start_time": "2023-04-27T11:02:38.289966Z",
     "end_time": "2023-04-27T11:02:38.330551Z"
    }
   }
  },
  {
   "cell_type": "code",
   "execution_count": 290,
   "outputs": [
    {
     "name": "stdout",
     "output_type": "stream",
     "text": [
      "tensor([-0.0466, -0.0456, -0.0414, -0.0468, -0.0477, -0.0470, -0.0511, -0.0425,\n",
      "        -0.0476, -0.0507, -0.0473, -0.0494, -0.0424, -0.0483, -0.0506, -0.0463,\n",
      "        -0.0491, -0.0525, -0.0507, -0.0479, -0.0435, -0.0441, -0.0506, -0.0463,\n",
      "        -0.0489, -0.0517, -0.0486, -0.0500, -0.0535, -0.0533, -0.0518, -0.0448,\n",
      "        -0.0425, -0.0460, -0.0472, -0.0445, -0.0507, -0.0537, -0.0488, -0.0443,\n",
      "        -0.0462, -0.0434, -0.0516, -0.0471, -0.0472, -0.0429, -0.0487, -0.0498,\n",
      "        -0.0520, -0.0513, -0.0530, -0.0480, -0.0464, -0.0461, -0.0497, -0.0520,\n",
      "        -0.0477, -0.0468, -0.0522, -0.0462, -0.0492, -0.0482, -0.0476, -0.0470],\n",
      "       grad_fn=<ReshapeAliasBackward0>)\n"
     ]
    },
    {
     "ename": "AttributeError",
     "evalue": "'torch.Size' object has no attribute 'flatten'",
     "output_type": "error",
     "traceback": [
      "\u001B[0;31m---------------------------------------------------------------------------\u001B[0m",
      "\u001B[0;31mAttributeError\u001B[0m                            Traceback (most recent call last)",
      "Cell \u001B[0;32mIn[290], line 15\u001B[0m\n\u001B[1;32m     12\u001B[0m y_pred \u001B[38;5;241m=\u001B[39m model(X_batch)\n\u001B[1;32m     14\u001B[0m \u001B[38;5;28mprint\u001B[39m(y_pred\u001B[38;5;241m.\u001B[39mflatten())\n\u001B[0;32m---> 15\u001B[0m \u001B[38;5;28mprint\u001B[39m(\u001B[43my_batch\u001B[49m\u001B[38;5;241;43m.\u001B[39;49m\u001B[43mshape\u001B[49m\u001B[38;5;241;43m.\u001B[39;49m\u001B[43mflatten\u001B[49m())\n\u001B[1;32m     16\u001B[0m loss \u001B[38;5;241m=\u001B[39m f\u001B[38;5;241m.\u001B[39mnll_loss(y_pred\u001B[38;5;241m.\u001B[39mflatten(), y_batch\u001B[38;5;241m.\u001B[39mflatten())\n\u001B[1;32m     17\u001B[0m \u001B[38;5;66;03m# loss = criterion(y_pred, y_batch)\u001B[39;00m\n",
      "\u001B[0;31mAttributeError\u001B[0m: 'torch.Size' object has no attribute 'flatten'"
     ]
    }
   ],
   "source": [
    "import platform\n",
    "\n",
    "num_epochs = 30\n",
    "log = False\n",
    "\n",
    "# if \"Linux\" in platform.platform():\n",
    "#     model = torch.compile(model)\n",
    "\n",
    "for epoch in range(num_epochs):\n",
    "    model.train()\n",
    "    for batch_idx, (X_batch, y_batch) in enumerate(train_loader):\n",
    "        y_pred = model(X_batch)\n",
    "\n",
    "        # print(y_pred.flatten())\n",
    "        # print(y_batch.shape.flatten())\n",
    "        # loss = f.nll_loss(y_pred.flatten(), y_batch.flatten())\n",
    "        loss = criterion(y_pred, y_batch)\n",
    "\n",
    "        optimizer.zero_grad()\n",
    "        loss.backward()\n",
    "        optimizer.step()\n",
    "\n",
    "        if batch_idx % 20 == 0 and log:\n",
    "            print('Train Epoch: {} [{}/{} ({:.0f}%)]\\tLoss: {:.6f}'.format(\n",
    "                epoch, batch_idx * len(X_batch), len(train_loader.dataset), 100. * batch_idx / len(train_loader),\n",
    "                loss.item()))\n",
    "\n",
    "    model.eval()\n",
    "    with torch.no_grad():\n",
    "        test_loss = 0\n",
    "        for X_batch, y_batch in test_loader:\n",
    "            y_pred = model(X_batch)\n",
    "            loss = criterion(y_pred, y_batch)\n",
    "            test_loss += loss.item()\n",
    "\n",
    "        test_loss = test_loss / len(test_loader)\n",
    "\n",
    "        print(f\"Epoch: {epoch + 1}, Train Loss: {loss.item():.4f}, Test Loss: {test_loss:.4f}\")\n",
    "\n"
   ],
   "metadata": {
    "collapsed": false,
    "ExecuteTime": {
     "start_time": "2023-04-27T10:00:40.309176Z",
     "end_time": "2023-04-27T10:02:23.715666Z"
    }
   }
  },
  {
   "cell_type": "code",
   "execution_count": null,
   "outputs": [],
   "source": [],
   "metadata": {
    "collapsed": false
   }
  }
 ],
 "metadata": {
  "kernelspec": {
   "display_name": "Python 3",
   "language": "python",
   "name": "python3"
  },
  "language_info": {
   "codemirror_mode": {
    "name": "ipython",
    "version": 2
   },
   "file_extension": ".py",
   "mimetype": "text/x-python",
   "name": "python",
   "nbconvert_exporter": "python",
   "pygments_lexer": "ipython2",
   "version": "2.7.6"
  }
 },
 "nbformat": 4,
 "nbformat_minor": 0
}
