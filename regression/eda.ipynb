{
 "cells": [
  {
   "cell_type": "code",
   "execution_count": 1,
   "metadata": {
    "collapsed": true,
    "ExecuteTime": {
     "start_time": "2023-04-27T09:47:23.483917Z",
     "end_time": "2023-04-27T09:47:36.491467Z"
    }
   },
   "outputs": [
    {
     "name": "stderr",
     "output_type": "stream",
     "text": [
      "/tmp/ipykernel_65588/353302006.py:4: DtypeWarning: Columns (0,2) have mixed types. Specify dtype option on import or set low_memory=False.\n",
      "  social = pd.read_csv(\"Aggregated_reddit_twitter.csv\")\n"
     ]
    }
   ],
   "source": [
    "import pandas as pd\n",
    "import matplotlib.pyplot as plt\n",
    "\n",
    "social = pd.read_csv(\"Aggregated_reddit_twitter.csv\")\n",
    "social = social.rename(columns={\"date\": \"timestamp\"})\n",
    "social[\"timestamp\"] = pd.to_datetime(social[\"timestamp\"])\n",
    "\n"
   ]
  },
  {
   "cell_type": "code",
   "execution_count": 2,
   "outputs": [],
   "source": [
    "social = social[social.content != \"u/circular360\"]\n",
    "social = social[social.content != \"There you go\"]\n",
    "social = social[\n",
    "    social.content != \"Why force the other player to stay around? Just give the winning player the option to continue the game with a perma passing AI controlling the surrendering player.\"]"
   ],
   "metadata": {
    "collapsed": false,
    "ExecuteTime": {
     "start_time": "2023-04-27T09:47:36.645007Z",
     "end_time": "2023-04-27T09:47:38.677694Z"
    }
   }
  },
  {
   "cell_type": "code",
   "execution_count": 65,
   "outputs": [],
   "source": [
    "# crypto = pd.read_csv(\"transformed_crypto.csv\")\n",
    "# crypto[\"timestamp\"] = pd.to_datetime(crypto[\"timestamp\"]).dt.tz_localize(None)\n",
    "crypto = pd.read_csv(\"crypto_differences.csv\")\n",
    "crypto[\"timestamp\"] = pd.to_datetime(crypto[\"timestamp\"]).dt.tz_localize(None)\n"
   ],
   "metadata": {
    "collapsed": false,
    "ExecuteTime": {
     "start_time": "2023-04-27T09:56:47.123693Z",
     "end_time": "2023-04-27T09:56:56.519425Z"
    }
   }
  },
  {
   "cell_type": "code",
   "execution_count": 66,
   "outputs": [],
   "source": [
    "# crypto.dtypes, social.dtypes"
   ],
   "metadata": {
    "collapsed": false,
    "ExecuteTime": {
     "start_time": "2023-04-27T09:56:56.560794Z",
     "end_time": "2023-04-27T09:56:56.565609Z"
    }
   }
  },
  {
   "cell_type": "code",
   "execution_count": 67,
   "outputs": [],
   "source": [
    "social = social.sort_values(by=\"timestamp\")"
   ],
   "metadata": {
    "collapsed": false,
    "ExecuteTime": {
     "start_time": "2023-04-27T09:56:56.560926Z",
     "end_time": "2023-04-27T09:56:57.213913Z"
    }
   }
  },
  {
   "cell_type": "code",
   "execution_count": 68,
   "outputs": [],
   "source": [
    "# social.dtypes\n",
    "sr = social.resample(\"T\", on=\"timestamp\").size()\n",
    "freq = sr.reset_index()\n",
    "\n",
    "freq = freq.rename(columns={0: \"n_comments\"})"
   ],
   "metadata": {
    "collapsed": false,
    "ExecuteTime": {
     "start_time": "2023-04-27T09:56:57.216288Z",
     "end_time": "2023-04-27T09:56:59.275439Z"
    }
   }
  },
  {
   "cell_type": "markdown",
   "source": [],
   "metadata": {
    "collapsed": false
   }
  },
  {
   "cell_type": "code",
   "execution_count": 68,
   "outputs": [],
   "source": [],
   "metadata": {
    "collapsed": false,
    "ExecuteTime": {
     "start_time": "2023-04-27T09:56:59.275135Z",
     "end_time": "2023-04-27T09:56:59.279200Z"
    }
   }
  },
  {
   "cell_type": "code",
   "execution_count": 69,
   "outputs": [],
   "source": [
    "mg = pd.merge(crypto, freq, on=\"timestamp\", how=\"inner\")"
   ],
   "metadata": {
    "collapsed": false,
    "ExecuteTime": {
     "start_time": "2023-04-27T09:56:59.281531Z",
     "end_time": "2023-04-27T09:56:59.865503Z"
    }
   }
  },
  {
   "cell_type": "code",
   "execution_count": 70,
   "outputs": [
    {
     "data": {
      "text/plain": "timestamp     1126683\nn_comments      67103\ndtype: int64"
     },
     "execution_count": 70,
     "metadata": {},
     "output_type": "execute_result"
    }
   ],
   "source": [
    "freq.idxmax()"
   ],
   "metadata": {
    "collapsed": false,
    "ExecuteTime": {
     "start_time": "2023-04-27T09:56:59.866175Z",
     "end_time": "2023-04-27T09:56:59.872662Z"
    }
   }
  },
  {
   "cell_type": "code",
   "execution_count": 71,
   "outputs": [
    {
     "data": {
      "text/plain": "Timestamp('2021-04-16 14:23:00')"
     },
     "execution_count": 71,
     "metadata": {},
     "output_type": "execute_result"
    }
   ],
   "source": [
    "t = freq.iloc[67103].timestamp\n",
    "freq.iloc[67103].timestamp"
   ],
   "metadata": {
    "collapsed": false,
    "ExecuteTime": {
     "start_time": "2023-04-27T09:56:59.873866Z",
     "end_time": "2023-04-27T09:56:59.878595Z"
    }
   }
  },
  {
   "cell_type": "code",
   "execution_count": 72,
   "outputs": [
    {
     "data": {
      "text/plain": "        Unnamed: 0       id                         title              author   \n2632177    2632177  guq6zj5                           NaN       SlappyMcLovin  \\\n2632178    2632178  guq6zjo                           NaN             mcathca   \n320222      320222   ms47x0  Dogefolder team/Folders@Home         staticchmbr   \n2632179    2632179  guq6zlf                           NaN            Jeep2021   \n2632180    2632180  guq6zn0                           NaN       DarthLysergis   \n...            ...      ...                           ...                 ...   \n2632682    2632682  guq797b                           NaN          mikenard77   \n2632683    2632683  guq797f                           NaN        zerotheelder   \n2632684    2632684  guq797i                           NaN            Loommy92   \n2632685    2632685  guq797l                           NaN  Reasonable_Cup6127   \n2632688    2632688  guq79aj                           NaN         smokey94420   \n\n                  timestamp          topics  likes  replies   \n2632177 2021-04-16 14:23:01         5555555    3.0      0.0  \\\n2632178 2021-04-16 14:23:01      Crypto_com    3.0      0.0   \n320222  2021-04-16 14:23:01        dogecoin    3.0      7.0   \n2632179 2021-04-16 14:23:02        dogecoin    1.0      0.0   \n2632180 2021-04-16 14:23:02         Stellar   18.0      0.0   \n...                     ...             ...    ...      ...   \n2632682 2021-04-16 14:24:58             XRP    1.0      0.0   \n2632683 2021-04-16 14:24:58  CryptoCurrency   -1.0      0.0   \n2632684 2021-04-16 14:24:58   MonsterHunter  -20.0      0.0   \n2632685 2021-04-16 14:24:58        dogecoin    1.0      0.0   \n2632688 2021-04-16 14:24:59        dogecoin    1.0      0.0   \n\n                                                      link   \n2632177                                          t3_mrr6wp  \\\n2632178                                          t3_ms453z   \n320222   https://www.reddit.com/r/dogecoin/comments/ms4...   \n2632179                                          t3_ms46pq   \n2632180                                          t3_ms3mv4   \n...                                                    ...   \n2632682                                          t3_ms1g1d   \n2632683                                          t3_ms1man   \n2632684                                          t3_mrznqs   \n2632685                                          t3_ms47kl   \n2632688                                          t3_ms0d0r   \n\n                                                   content  other_scores   \n2632177                   100 baht isn’t even worth 1 Doge           NaN  \\\n2632178  Thank you I’ll look into that when the app is ...           NaN   \n320222   \\*\\*EDIT (Sorry - Folding@Home) &  I'm not JUS...           NaN   \n2632179          Someone needs to sue the hell out of them           NaN   \n2632180  I would like to add,\\n\\nThis truthfully has ev...           NaN   \n...                                                    ...           ...   \n2632682         Follow the above steps without a PC first.           NaN   \n2632683  Not everyone can became billionaire, even the ...           NaN   \n2632684  Bruh what kinda BS rope is that? I swear handi...           NaN   \n2632685  Yea buy in now but plan on holding for the lon...           NaN   \n2632688                    They are messing this the price           NaN   \n\n         social  \n2632177  reddit  \n2632178  reddit  \n320222   reddit  \n2632179  reddit  \n2632180  reddit  \n...         ...  \n2632682  reddit  \n2632683  reddit  \n2632684  reddit  \n2632685  reddit  \n2632688  reddit  \n\n[553 rows x 12 columns]",
      "text/html": "<div>\n<style scoped>\n    .dataframe tbody tr th:only-of-type {\n        vertical-align: middle;\n    }\n\n    .dataframe tbody tr th {\n        vertical-align: top;\n    }\n\n    .dataframe thead th {\n        text-align: right;\n    }\n</style>\n<table border=\"1\" class=\"dataframe\">\n  <thead>\n    <tr style=\"text-align: right;\">\n      <th></th>\n      <th>Unnamed: 0</th>\n      <th>id</th>\n      <th>title</th>\n      <th>author</th>\n      <th>timestamp</th>\n      <th>topics</th>\n      <th>likes</th>\n      <th>replies</th>\n      <th>link</th>\n      <th>content</th>\n      <th>other_scores</th>\n      <th>social</th>\n    </tr>\n  </thead>\n  <tbody>\n    <tr>\n      <th>2632177</th>\n      <td>2632177</td>\n      <td>guq6zj5</td>\n      <td>NaN</td>\n      <td>SlappyMcLovin</td>\n      <td>2021-04-16 14:23:01</td>\n      <td>5555555</td>\n      <td>3.0</td>\n      <td>0.0</td>\n      <td>t3_mrr6wp</td>\n      <td>100 baht isn’t even worth 1 Doge</td>\n      <td>NaN</td>\n      <td>reddit</td>\n    </tr>\n    <tr>\n      <th>2632178</th>\n      <td>2632178</td>\n      <td>guq6zjo</td>\n      <td>NaN</td>\n      <td>mcathca</td>\n      <td>2021-04-16 14:23:01</td>\n      <td>Crypto_com</td>\n      <td>3.0</td>\n      <td>0.0</td>\n      <td>t3_ms453z</td>\n      <td>Thank you I’ll look into that when the app is ...</td>\n      <td>NaN</td>\n      <td>reddit</td>\n    </tr>\n    <tr>\n      <th>320222</th>\n      <td>320222</td>\n      <td>ms47x0</td>\n      <td>Dogefolder team/Folders@Home</td>\n      <td>staticchmbr</td>\n      <td>2021-04-16 14:23:01</td>\n      <td>dogecoin</td>\n      <td>3.0</td>\n      <td>7.0</td>\n      <td>https://www.reddit.com/r/dogecoin/comments/ms4...</td>\n      <td>\\*\\*EDIT (Sorry - Folding@Home) &amp;  I'm not JUS...</td>\n      <td>NaN</td>\n      <td>reddit</td>\n    </tr>\n    <tr>\n      <th>2632179</th>\n      <td>2632179</td>\n      <td>guq6zlf</td>\n      <td>NaN</td>\n      <td>Jeep2021</td>\n      <td>2021-04-16 14:23:02</td>\n      <td>dogecoin</td>\n      <td>1.0</td>\n      <td>0.0</td>\n      <td>t3_ms46pq</td>\n      <td>Someone needs to sue the hell out of them</td>\n      <td>NaN</td>\n      <td>reddit</td>\n    </tr>\n    <tr>\n      <th>2632180</th>\n      <td>2632180</td>\n      <td>guq6zn0</td>\n      <td>NaN</td>\n      <td>DarthLysergis</td>\n      <td>2021-04-16 14:23:02</td>\n      <td>Stellar</td>\n      <td>18.0</td>\n      <td>0.0</td>\n      <td>t3_ms3mv4</td>\n      <td>I would like to add,\\n\\nThis truthfully has ev...</td>\n      <td>NaN</td>\n      <td>reddit</td>\n    </tr>\n    <tr>\n      <th>...</th>\n      <td>...</td>\n      <td>...</td>\n      <td>...</td>\n      <td>...</td>\n      <td>...</td>\n      <td>...</td>\n      <td>...</td>\n      <td>...</td>\n      <td>...</td>\n      <td>...</td>\n      <td>...</td>\n      <td>...</td>\n    </tr>\n    <tr>\n      <th>2632682</th>\n      <td>2632682</td>\n      <td>guq797b</td>\n      <td>NaN</td>\n      <td>mikenard77</td>\n      <td>2021-04-16 14:24:58</td>\n      <td>XRP</td>\n      <td>1.0</td>\n      <td>0.0</td>\n      <td>t3_ms1g1d</td>\n      <td>Follow the above steps without a PC first.</td>\n      <td>NaN</td>\n      <td>reddit</td>\n    </tr>\n    <tr>\n      <th>2632683</th>\n      <td>2632683</td>\n      <td>guq797f</td>\n      <td>NaN</td>\n      <td>zerotheelder</td>\n      <td>2021-04-16 14:24:58</td>\n      <td>CryptoCurrency</td>\n      <td>-1.0</td>\n      <td>0.0</td>\n      <td>t3_ms1man</td>\n      <td>Not everyone can became billionaire, even the ...</td>\n      <td>NaN</td>\n      <td>reddit</td>\n    </tr>\n    <tr>\n      <th>2632684</th>\n      <td>2632684</td>\n      <td>guq797i</td>\n      <td>NaN</td>\n      <td>Loommy92</td>\n      <td>2021-04-16 14:24:58</td>\n      <td>MonsterHunter</td>\n      <td>-20.0</td>\n      <td>0.0</td>\n      <td>t3_mrznqs</td>\n      <td>Bruh what kinda BS rope is that? I swear handi...</td>\n      <td>NaN</td>\n      <td>reddit</td>\n    </tr>\n    <tr>\n      <th>2632685</th>\n      <td>2632685</td>\n      <td>guq797l</td>\n      <td>NaN</td>\n      <td>Reasonable_Cup6127</td>\n      <td>2021-04-16 14:24:58</td>\n      <td>dogecoin</td>\n      <td>1.0</td>\n      <td>0.0</td>\n      <td>t3_ms47kl</td>\n      <td>Yea buy in now but plan on holding for the lon...</td>\n      <td>NaN</td>\n      <td>reddit</td>\n    </tr>\n    <tr>\n      <th>2632688</th>\n      <td>2632688</td>\n      <td>guq79aj</td>\n      <td>NaN</td>\n      <td>smokey94420</td>\n      <td>2021-04-16 14:24:59</td>\n      <td>dogecoin</td>\n      <td>1.0</td>\n      <td>0.0</td>\n      <td>t3_ms0d0r</td>\n      <td>They are messing this the price</td>\n      <td>NaN</td>\n      <td>reddit</td>\n    </tr>\n  </tbody>\n</table>\n<p>553 rows × 12 columns</p>\n</div>"
     },
     "execution_count": 72,
     "metadata": {},
     "output_type": "execute_result"
    }
   ],
   "source": [
    "import datetime\n",
    "\n",
    "social.loc[(social['timestamp'] > t) & (social['timestamp'] < t + datetime.timedelta(minutes=2))]"
   ],
   "metadata": {
    "collapsed": false,
    "ExecuteTime": {
     "start_time": "2023-04-27T09:56:59.877205Z",
     "end_time": "2023-04-27T09:56:59.909378Z"
    }
   }
  },
  {
   "cell_type": "code",
   "execution_count": 73,
   "outputs": [],
   "source": [
    "import pandas as pd\n",
    "import numpy as np\n",
    "import statsmodels.api as sm\n",
    "from statsmodels.tsa.arima.model import ARIMA\n",
    "from statsmodels.tsa.statespace.sarimax import SARIMAX\n",
    "from statsmodels.graphics.tsaplots import plot_acf, plot_pacf\n",
    "import matplotlib.pyplot as plt\n"
   ],
   "metadata": {
    "collapsed": false,
    "ExecuteTime": {
     "start_time": "2023-04-27T09:56:59.907681Z",
     "end_time": "2023-04-27T09:56:59.919479Z"
    }
   }
  },
  {
   "cell_type": "code",
   "execution_count": 74,
   "outputs": [
    {
     "data": {
      "text/plain": "((790319, 9), (875267, 8))"
     },
     "execution_count": 74,
     "metadata": {},
     "output_type": "execute_result"
    }
   ],
   "source": [
    "mg.shape, crypto.shape"
   ],
   "metadata": {
    "collapsed": false,
    "ExecuteTime": {
     "start_time": "2023-04-27T09:56:59.911513Z",
     "end_time": "2023-04-27T09:56:59.919757Z"
    }
   }
  },
  {
   "cell_type": "code",
   "execution_count": 75,
   "outputs": [],
   "source": [
    "import torch\n",
    "import torch.nn as nn\n",
    "from torch.utils.data import Dataset\n"
   ],
   "metadata": {
    "collapsed": false,
    "ExecuteTime": {
     "start_time": "2023-04-27T09:56:59.918282Z",
     "end_time": "2023-04-27T09:56:59.924763Z"
    }
   }
  },
  {
   "cell_type": "code",
   "execution_count": 123,
   "outputs": [
    {
     "data": {
      "text/plain": "Empty DataFrame\nColumns: [Unnamed: 0, timestamp, XRP-PERP, SOL-PERP, ETH-PERP, DOGE-PERP, BTC-PERP, APE-PERP, n_comments]\nIndex: []",
      "text/html": "<div>\n<style scoped>\n    .dataframe tbody tr th:only-of-type {\n        vertical-align: middle;\n    }\n\n    .dataframe tbody tr th {\n        vertical-align: top;\n    }\n\n    .dataframe thead th {\n        text-align: right;\n    }\n</style>\n<table border=\"1\" class=\"dataframe\">\n  <thead>\n    <tr style=\"text-align: right;\">\n      <th></th>\n      <th>Unnamed: 0</th>\n      <th>timestamp</th>\n      <th>XRP-PERP</th>\n      <th>SOL-PERP</th>\n      <th>ETH-PERP</th>\n      <th>DOGE-PERP</th>\n      <th>BTC-PERP</th>\n      <th>APE-PERP</th>\n      <th>n_comments</th>\n    </tr>\n  </thead>\n  <tbody>\n  </tbody>\n</table>\n</div>"
     },
     "execution_count": 123,
     "metadata": {},
     "output_type": "execute_result"
    }
   ],
   "source": [
    "shortmg = mg.loc[0:5000]\n",
    "shortmg.dropna()"
   ],
   "metadata": {
    "collapsed": false,
    "ExecuteTime": {
     "start_time": "2023-04-27T10:13:57.778739Z",
     "end_time": "2023-04-27T10:13:57.833816Z"
    }
   }
  },
  {
   "cell_type": "code",
   "execution_count": 124,
   "outputs": [],
   "source": [
    "LAG = 30\n",
    "\n",
    "\n",
    "class TimeSeriesDataset(Dataset):\n",
    "    def __init__(self, X_data, y_data):\n",
    "        self.X_data = X_data\n",
    "        self.y_data = y_data\n",
    "\n",
    "    def __getitem__(self, index):\n",
    "        return self.X_data[index], self.y_data[index]\n",
    "\n",
    "    def __len__(self):\n",
    "        return len(self.X_data)\n",
    "\n",
    "\n",
    "class MyTimeSeriesDataset(Dataset):\n",
    "    def __init__(self, X_data, y_data):\n",
    "        self.X_data = X_data\n",
    "        self.y_data = y_data\n",
    "\n",
    "    def __getitem__(self, index):\n",
    "        return self.X_data.loc[index], self.y_data[index]\n",
    "\n",
    "    def __len__(self):\n",
    "        return len(self.X_data)\n",
    "\n",
    "# data = MyTimeSeriesDataset(X_data=shortmg[['n_comments', 'XRP-PERP', 'ETH-PERP']], y_data=shortmg['BTC-PERP'])"
   ],
   "metadata": {
    "collapsed": false,
    "ExecuteTime": {
     "start_time": "2023-04-27T10:13:58.182064Z",
     "end_time": "2023-04-27T10:13:58.184480Z"
    }
   }
  },
  {
   "cell_type": "code",
   "execution_count": 125,
   "outputs": [],
   "source": [
    "# Load your dataset into a pandas DataFrame called 'data'\n",
    "from sklearn.preprocessing import MinMaxScaler\n",
    "\n",
    "# Scale the features using MinMaxScaler\n",
    "\n",
    "scaled_data = shortmg[['XRP-PERP', 'ETH-PERP', 'BTC-PERP', 'SOL-PERP', 'DOGE-PERP', 'n_comments']].to_numpy()\n",
    "\n",
    "scaler = MinMaxScaler()\n",
    "\n",
    "scaled_data = scaler.fit_transform(scaled_data)\n",
    "#\n",
    "# Create sequences and targets for the RNN model\n",
    "seq_length = 100\n",
    "X_data = []\n",
    "y_data = []\n",
    "\n",
    "for i in range(len(scaled_data) - seq_length):\n",
    "    X_data.append(scaled_data[i:i + seq_length])\n",
    "    y_data.append(scaled_data[i + seq_length])\n",
    "\n",
    "y_data = np.delete(y_data, -1, axis=1)\n",
    "# print(y_data[1])\n",
    "X_data, y_data = np.array(X_data), np.array(y_data)"
   ],
   "metadata": {
    "collapsed": false,
    "ExecuteTime": {
     "start_time": "2023-04-27T10:13:58.536316Z",
     "end_time": "2023-04-27T10:13:58.562076Z"
    }
   }
  },
  {
   "cell_type": "code",
   "execution_count": 126,
   "outputs": [],
   "source": [
    "train_size = int(len(X_data) * 0.8)\n",
    "X_train, X_test = X_data[:train_size], X_data[train_size:]\n",
    "y_train, y_test = y_data[:train_size], y_data[train_size:]"
   ],
   "metadata": {
    "collapsed": false,
    "ExecuteTime": {
     "start_time": "2023-04-27T10:13:58.776274Z",
     "end_time": "2023-04-27T10:13:58.781373Z"
    }
   }
  },
  {
   "cell_type": "code",
   "execution_count": 127,
   "outputs": [],
   "source": [
    "from torch.utils.data import DataLoader\n",
    "\n",
    "batch_size = 64\n",
    "train_dataset = TimeSeriesDataset(torch.from_numpy(X_train).float(), torch.from_numpy(y_train).float())\n",
    "test_dataset = TimeSeriesDataset(torch.from_numpy(X_test).float(), torch.from_numpy(y_test).float())\n",
    "\n",
    "train_loader = DataLoader(dataset=train_dataset, batch_size=batch_size, shuffle=True)\n",
    "test_loader = DataLoader(dataset=test_dataset, batch_size=batch_size, shuffle=False)"
   ],
   "metadata": {
    "collapsed": false,
    "ExecuteTime": {
     "start_time": "2023-04-27T10:13:59.019220Z",
     "end_time": "2023-04-27T10:13:59.023767Z"
    }
   }
  },
  {
   "cell_type": "code",
   "execution_count": 128,
   "outputs": [
    {
     "data": {
      "text/plain": "(4901, 5)"
     },
     "execution_count": 128,
     "metadata": {},
     "output_type": "execute_result"
    }
   ],
   "source": [
    "y_data.shape"
   ],
   "metadata": {
    "collapsed": false,
    "ExecuteTime": {
     "start_time": "2023-04-27T10:13:59.206578Z",
     "end_time": "2023-04-27T10:13:59.214665Z"
    }
   }
  },
  {
   "cell_type": "code",
   "execution_count": 129,
   "outputs": [],
   "source": [
    "class RNNModel(nn.Module):\n",
    "    def __init__(self, input_size, hidden_size, num_layers, output_size):\n",
    "        super(RNNModel, self).__init__()\n",
    "\n",
    "        self.rnn = nn.RNN(input_size, hidden_size, num_layers, batch_first=True)\n",
    "        self.fc = nn.Linear(hidden_size, output_size)\n",
    "\n",
    "    def forward(self, x):\n",
    "        out, _ = self.rnn(x)\n",
    "        out = self.fc(out[:, -1, :])\n",
    "        return out\n",
    "\n",
    "\n",
    "class TransformerModel(nn.Module):\n",
    "    def __init__(self, input_size, d_model, nhead, num_layers, output_size):\n",
    "        super(TransformerModel, self).__init__()\n",
    "\n",
    "        self.embedding = nn.Linear(input_size, d_model)\n",
    "        self.transformer_encoder_layer = nn.TransformerEncoderLayer(d_model, nhead)\n",
    "        self.transformer_encoder = nn.TransformerEncoder(self.transformer_encoder_layer, num_layers)\n",
    "        self.fc = nn.Linear(d_model, output_size)\n",
    "\n",
    "    def forward(self, x):\n",
    "        x = self.embedding(x)\n",
    "        x = x.transpose(0, 1)\n",
    "        x = self.transformer_encoder(x)\n",
    "        x = x.transpose(0, 1)\n",
    "        x = self.fc(x[:, -1, :])\n",
    "        return x"
   ],
   "metadata": {
    "collapsed": false,
    "ExecuteTime": {
     "start_time": "2023-04-27T10:13:59.433376Z",
     "end_time": "2023-04-27T10:13:59.443145Z"
    }
   }
  },
  {
   "cell_type": "code",
   "execution_count": 138,
   "outputs": [],
   "source": [
    "from torch import optim\n",
    "\n",
    "input_size = X_data.shape[2]\n",
    "hidden_size = 128\n",
    "num_layers = 2\n",
    "output_size = y_data.shape[1]\n",
    "\n",
    "# model = RNNModel(input_size, hidden_size, num_layers, output_size)\n",
    "model = TransformerModel(input_size, d_model=32, nhead=2, num_layers=2, output_size=output_size)\n",
    "criterion = nn.MSELoss()\n",
    "optimizer = optim.Adam(model.parameters(), lr=0.001)"
   ],
   "metadata": {
    "collapsed": false,
    "ExecuteTime": {
     "start_time": "2023-04-27T10:16:09.865301Z",
     "end_time": "2023-04-27T10:16:09.907532Z"
    }
   }
  },
  {
   "cell_type": "code",
   "execution_count": 139,
   "outputs": [],
   "source": [
    "# from sgbd import SGBD\n",
    "# optimizer = SGBD(model.parameters(), n_params=sum(p.numel() for p in model.parameters()), device=torch.device(\"cpu\"),\n",
    "#                          defaults={}, corrected=True, extreme=False,\n",
    "#                          ensemble=None, step_size=None,\n",
    "#                          thermolize_epoch=0, epochs=100, batch_n=len(train_loader))"
   ],
   "metadata": {
    "collapsed": false,
    "ExecuteTime": {
     "start_time": "2023-04-27T10:16:10.166418Z",
     "end_time": "2023-04-27T10:16:10.173269Z"
    }
   }
  },
  {
   "cell_type": "code",
   "execution_count": 140,
   "outputs": [
    {
     "name": "stderr",
     "output_type": "stream",
     "text": [
      "[2023-04-27 10:16:11,720] torch._inductor.utils: [WARNING] using triton random, expect difference from eager\n",
      "\n",
      "KeyboardInterrupt\n",
      "\n"
     ]
    }
   ],
   "source": [
    "import platform\n",
    "\n",
    "num_epochs = 30\n",
    "\n",
    "if \"Linux\" in platform.platform():\n",
    "    model = torch.compile(model)\n",
    "\n",
    "for epoch in range(num_epochs):\n",
    "    model.train()\n",
    "    for batch_idx, (X_batch, y_batch) in enumerate(train_loader):\n",
    "        y_pred = model(X_batch)\n",
    "        loss = criterion(y_pred, y_batch)\n",
    "\n",
    "        optimizer.zero_grad()\n",
    "        loss.backward()\n",
    "        optimizer.step()\n",
    "\n",
    "        if batch_idx % 20 == 0 and True:\n",
    "            print('Train Epoch: {} [{}/{} ({:.0f}%)]\\tLoss: {:.6f}'.format(\n",
    "                epoch, batch_idx * len(X_batch), len(train_loader.dataset), 100. * batch_idx / len(train_loader),\n",
    "                loss.item()))\n",
    "\n",
    "    model.eval()\n",
    "    with torch.no_grad():\n",
    "        test_loss = 0\n",
    "        for X_batch, y_batch in test_loader:\n",
    "            y_pred = model(X_batch)\n",
    "            loss = criterion(y_pred, y_batch)\n",
    "            test_loss += loss.item()\n",
    "\n",
    "        test_loss = test_loss / len(test_loader)\n",
    "\n",
    "        print(f\"Epoch: {epoch + 1}, Train Loss: {loss.item():.4f}, Test Loss: {test_loss:.4f}\")\n",
    "\n"
   ],
   "metadata": {
    "collapsed": false,
    "ExecuteTime": {
     "start_time": "2023-04-27T10:00:40.309176Z",
     "end_time": "2023-04-27T10:02:23.715666Z"
    }
   }
  },
  {
   "cell_type": "code",
   "execution_count": 110,
   "outputs": [
    {
     "data": {
      "text/plain": "0.01577248895782091"
     },
     "execution_count": 110,
     "metadata": {},
     "output_type": "execute_result"
    }
   ],
   "source": [
    "y_data.var()"
   ],
   "metadata": {
    "collapsed": false,
    "ExecuteTime": {
     "start_time": "2023-04-27T10:08:22.892905Z",
     "end_time": "2023-04-27T10:08:22.900600Z"
    }
   }
  },
  {
   "cell_type": "code",
   "execution_count": 61,
   "outputs": [
    {
     "data": {
      "text/plain": "   Unnamed: 0           timestamp  XRP-PERP  SOL-PERP  ETH-PERP  DOGE-PERP   \n0           0 2021-01-01 00:01:00 -1.582061 -1.194479 -1.932957  -1.453424  \\\n1           1 2021-01-01 00:02:00 -1.578833 -1.194382 -1.930775  -1.453357   \n2           2 2021-01-01 00:03:00 -1.579396 -1.194401 -1.931715  -1.453379   \n3           3 2021-01-01 00:04:00 -1.579809 -1.194401 -1.931568  -1.453377   \n4           4 2021-01-01 00:05:00 -1.578795 -1.194421 -1.932184  -1.453370   \n\n   BTC-PERP  APE-PERP  \n0 -1.070291       NaN  \n1 -1.069996       NaN  \n2 -1.067950       NaN  \n3 -1.067929       NaN  \n4 -1.069194       NaN  ",
      "text/html": "<div>\n<style scoped>\n    .dataframe tbody tr th:only-of-type {\n        vertical-align: middle;\n    }\n\n    .dataframe tbody tr th {\n        vertical-align: top;\n    }\n\n    .dataframe thead th {\n        text-align: right;\n    }\n</style>\n<table border=\"1\" class=\"dataframe\">\n  <thead>\n    <tr style=\"text-align: right;\">\n      <th></th>\n      <th>Unnamed: 0</th>\n      <th>timestamp</th>\n      <th>XRP-PERP</th>\n      <th>SOL-PERP</th>\n      <th>ETH-PERP</th>\n      <th>DOGE-PERP</th>\n      <th>BTC-PERP</th>\n      <th>APE-PERP</th>\n    </tr>\n  </thead>\n  <tbody>\n    <tr>\n      <th>0</th>\n      <td>0</td>\n      <td>2021-01-01 00:01:00</td>\n      <td>-1.582061</td>\n      <td>-1.194479</td>\n      <td>-1.932957</td>\n      <td>-1.453424</td>\n      <td>-1.070291</td>\n      <td>NaN</td>\n    </tr>\n    <tr>\n      <th>1</th>\n      <td>1</td>\n      <td>2021-01-01 00:02:00</td>\n      <td>-1.578833</td>\n      <td>-1.194382</td>\n      <td>-1.930775</td>\n      <td>-1.453357</td>\n      <td>-1.069996</td>\n      <td>NaN</td>\n    </tr>\n    <tr>\n      <th>2</th>\n      <td>2</td>\n      <td>2021-01-01 00:03:00</td>\n      <td>-1.579396</td>\n      <td>-1.194401</td>\n      <td>-1.931715</td>\n      <td>-1.453379</td>\n      <td>-1.067950</td>\n      <td>NaN</td>\n    </tr>\n    <tr>\n      <th>3</th>\n      <td>3</td>\n      <td>2021-01-01 00:04:00</td>\n      <td>-1.579809</td>\n      <td>-1.194401</td>\n      <td>-1.931568</td>\n      <td>-1.453377</td>\n      <td>-1.067929</td>\n      <td>NaN</td>\n    </tr>\n    <tr>\n      <th>4</th>\n      <td>4</td>\n      <td>2021-01-01 00:05:00</td>\n      <td>-1.578795</td>\n      <td>-1.194421</td>\n      <td>-1.932184</td>\n      <td>-1.453370</td>\n      <td>-1.069194</td>\n      <td>NaN</td>\n    </tr>\n  </tbody>\n</table>\n</div>"
     },
     "execution_count": 61,
     "metadata": {},
     "output_type": "execute_result"
    }
   ],
   "source": [
    "crypto.head()"
   ],
   "metadata": {
    "collapsed": false,
    "ExecuteTime": {
     "start_time": "2023-04-27T09:54:24.145337Z",
     "end_time": "2023-04-27T09:54:24.187815Z"
    }
   }
  },
  {
   "cell_type": "code",
   "execution_count": null,
   "outputs": [],
   "source": [],
   "metadata": {
    "collapsed": false
   }
  },
  {
   "cell_type": "code",
   "execution_count": null,
   "outputs": [],
   "source": [],
   "metadata": {
    "collapsed": false
   }
  },
  {
   "cell_type": "code",
   "execution_count": null,
   "outputs": [],
   "source": [],
   "metadata": {
    "collapsed": false
   }
  },
  {
   "cell_type": "code",
   "execution_count": null,
   "outputs": [],
   "source": [],
   "metadata": {
    "collapsed": false
   }
  },
  {
   "cell_type": "code",
   "execution_count": null,
   "outputs": [],
   "source": [],
   "metadata": {
    "collapsed": false
   }
  },
  {
   "cell_type": "code",
   "execution_count": null,
   "outputs": [],
   "source": [],
   "metadata": {
    "collapsed": false
   }
  }
 ],
 "metadata": {
  "kernelspec": {
   "display_name": "Python 3",
   "language": "python",
   "name": "python3"
  },
  "language_info": {
   "codemirror_mode": {
    "name": "ipython",
    "version": 2
   },
   "file_extension": ".py",
   "mimetype": "text/x-python",
   "name": "python",
   "nbconvert_exporter": "python",
   "pygments_lexer": "ipython2",
   "version": "2.7.6"
  }
 },
 "nbformat": 4,
 "nbformat_minor": 0
}
