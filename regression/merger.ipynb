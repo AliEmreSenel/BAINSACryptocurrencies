{
 "cells": [
  {
   "cell_type": "code",
   "execution_count": 2,
   "outputs": [],
   "source": [
    "import pandas as pd\n"
   ],
   "metadata": {
    "collapsed": false
   }
  },
  {
   "cell_type": "code",
   "execution_count": 3,
   "outputs": [],
   "source": [
    "# btc_av = pd.read_csv(\"df_BTC_alphavantage_01_Feb.csv\")\n",
    "# eth_av = pd.read_csv(\"df_ETH_alphavantage_01_Feb.csv\")\n",
    "reddit_c = pd.read_csv(\"reddit_comments.csv\")\n",
    "reddit_p = pd.read_csv(\"reddit_posts.csv\")\n",
    "twitter = pd.read_csv(\"tweeter_data_pandas.csv\")\n",
    "twitter = twitter.drop(columns=[\"link\"])"
   ],
   "metadata": {
    "collapsed": false
   }
  },
  {
   "cell_type": "code",
   "execution_count": 4,
   "outputs": [],
   "source": [
    "columns = [\"id\", \"date\", \"content\", \"likes\", \"title\", \"author\", \"link\", \"other_scores\", \"replies\",\n",
    "           \"topics\", \"social\"]\n"
   ],
   "metadata": {
    "collapsed": false
   }
  },
  {
   "cell_type": "markdown",
   "source": [
    "## Standardizing dataframes"
   ],
   "metadata": {
    "collapsed": false
   }
  },
  {
   "cell_type": "code",
   "execution_count": 5,
   "outputs": [],
   "source": [
    "# Reddit posts\n",
    "\n",
    "reddit_p = reddit_p.rename(columns={\n",
    "    \"created_utc\": \"date\",\n",
    "    \"num_comments\": \"replies\",\n",
    "    \"subreddit\": \"topics\",\n",
    "    \"url\": \"link\",\n",
    "    \"selftext\": \"content\",\n",
    "    \"score\": \"likes\",\n",
    "})\n",
    "\n",
    "# not present columns: other_scores, social\n",
    "reddit_p[\"other_scores\"] = \"\"\n",
    "reddit_p[\"social\"] = \"reddit\"\n",
    "# merge inner to be used"
   ],
   "metadata": {
    "collapsed": false
   }
  },
  {
   "cell_type": "code",
   "execution_count": 6,
   "outputs": [],
   "source": [
    "# reddit_p[\"title\"] = reddit_p[\"title\"].astype(\"\")\n",
    "# reddit_p[\"author\"] = reddit_p[\"author\"].astype(\"string\")\n",
    "reddit_p[\"date\"] = pd.to_datetime(reddit_p[\"date\"], unit=\"s\")\n"
   ],
   "metadata": {
    "collapsed": false
   }
  },
  {
   "cell_type": "code",
   "execution_count": 7,
   "outputs": [
    {
     "name": "stdout",
     "output_type": "stream",
     "text": [
      "['author', 'content', 'date', 'id', 'likes', 'link', 'other_scores', 'replies', 'social', 'title', 'topics']\n",
      "['Unnamed: 0', 'category', 'content', 'hashtags', 'images', 'is_retweet', 'likes', 'mentions', 'name', 'posted_time', 'profile_picture', 'replies', 'retweets', 'tweet_id', 'tweet_url', 'username', 'videos']\n"
     ]
    }
   ],
   "source": [
    "columns.sort()\n",
    "z = list(twitter.columns)\n",
    "z.sort()\n",
    "print(columns)\n",
    "print(z)\n",
    "twitter[\"name\"] = twitter[\"name\"] + \" \" + twitter[\"username\"]\n",
    "twitter = twitter.rename(columns={\n",
    "    \"tweet_id\": \"id\",\n",
    "    \"name\": \"author\",\n",
    "    \"posted_time\": \"date\",\n",
    "    \"hashtags\": \"topics\",\n",
    "    \"tweet_url\": \"link\"\n",
    "})\n",
    "\n",
    "twitter[\"topics\"] = twitter[\"topics\"][:-1] + \",\" + twitter[\"category\"] + \"]\"  # todo: be fixed\n",
    "twitter = twitter.drop([\"category\"], axis=1)\n",
    "twitter[\"social\"] = \"twitter\"\n",
    "twitter[\"title\"] = \"\"\n",
    "twitter[\"other_scores\"] = \"\"\n"
   ],
   "metadata": {
    "collapsed": false
   }
  },
  {
   "cell_type": "code",
   "execution_count": 8,
   "outputs": [],
   "source": [
    "# res = pd.merge(twitter, reddit_p, how=\"inner\")\n",
    "# res.head()\n",
    "twitter[\"id\"] = twitter[\"id\"].astype(\"object\")\n",
    "twitter[\"replies\"] = twitter[\"replies\"].astype(\"float\")\n",
    "twitter[\"likes\"] = twitter[\"likes\"].astype(\"float\")\n",
    "\n"
   ],
   "metadata": {
    "collapsed": false
   }
  },
  {
   "cell_type": "code",
   "execution_count": 9,
   "outputs": [],
   "source": [
    "# res = pd.merge(twitter, reddit_p, how=\"inner\")\n",
    "res = pd.concat([twitter, reddit_p], ignore_index=True, join=\"inner\")\n"
   ],
   "metadata": {
    "collapsed": false
   }
  },
  {
   "cell_type": "code",
   "execution_count": 10,
   "outputs": [],
   "source": [
    "# Reddit posts\n",
    "\n",
    "reddit_c = reddit_c.rename(columns={\n",
    "    \"created_utc\": \"date\",\n",
    "    # \"num_comments\": \"replies\",\n",
    "    \"subreddit\": \"topics\",\n",
    "    \"link_id\": \"link\",\n",
    "    \"body\": \"content\",\n",
    "    \"score\": \"likes\",\n",
    "})\n",
    "\n",
    "# not present columns: other_scores, social\n",
    "reddit_c[\"other_scores\"] = \"\"\n",
    "reddit_c[\"replies\"] = 0\n",
    "reddit_c[\"social\"] = \"reddit\"\n",
    "reddit_c[\"title\"] = \"\"\n",
    "\n",
    "reddit_c[\"date\"] = pd.to_datetime(reddit_c[\"date\"], unit=\"s\")\n",
    "\n",
    "# merge inner to be used\n"
   ],
   "metadata": {
    "collapsed": false
   }
  },
  {
   "cell_type": "code",
   "execution_count": 18,
   "outputs": [],
   "source": [
    "twitter[\"date\"] = pd.to_datetime(twitter[\"date\"]).dt.tz_localize(None)\n"
   ],
   "metadata": {
    "collapsed": false
   }
  },
  {
   "cell_type": "code",
   "execution_count": 11,
   "outputs": [],
   "source": [],
   "metadata": {
    "collapsed": false
   }
  },
  {
   "cell_type": "code",
   "execution_count": 19,
   "outputs": [
    {
     "data": {
      "text/plain": "                    id                                author  replies   likes  \\\n0  1345138664377094144                Tyler Winklevoss tyler    483.0  4273.0   \n1  1345136516729860107     Ming Solenya Napenstein MingGao26     15.0   254.0   \n2  1345127710943830018           Cointelegraph Cointelegraph     15.0   219.0   \n3  1345125794385944576  RYAN SΞAN ADAMS - rsa.eth RyanSAdams     19.0   306.0   \n4  1345100324705423360                       Binance binance   1286.0  1697.0   \n\n                 date                                            content  \\\n0 2021-01-01 22:43:43  Zcash $ZEC is easily the most underrated crypt...   \n1 2021-01-01 22:35:11  maybe the 19% rosneft stake failed so Gazprom ...   \n2 2021-01-01 22:00:12  Banking giant Wells Fargo finally bent the kne...   \n3 2021-01-01 21:52:35  If you don’t have assets you’re screwed. \\r\\n\\...   \n4 2021-01-01 20:11:22            What are your 2021 #crypto predictions?   \n\n                           topics  \\\n0                      [],crypto]   \n1                      [],crypto]   \n2  ['CryptoYearInReview'],crypto]   \n3                      [],crypto]   \n4              ['crypto'],crypto]   \n\n                                                link   social title  \\\n0  https://twitter.com/tyler/status/1345138664377...  twitter         \n1  https://twitter.com/MingGao26/status/134513651...  twitter         \n2  https://twitter.com/Cointelegraph/status/13451...  twitter         \n3  https://twitter.com/RyanSAdams/status/13451257...  twitter         \n4  https://twitter.com/binance/status/13451003247...  twitter         \n\n  other_scores  \n0               \n1               \n2               \n3               \n4               ",
      "text/html": "<div>\n<style scoped>\n    .dataframe tbody tr th:only-of-type {\n        vertical-align: middle;\n    }\n\n    .dataframe tbody tr th {\n        vertical-align: top;\n    }\n\n    .dataframe thead th {\n        text-align: right;\n    }\n</style>\n<table border=\"1\" class=\"dataframe\">\n  <thead>\n    <tr style=\"text-align: right;\">\n      <th></th>\n      <th>id</th>\n      <th>author</th>\n      <th>replies</th>\n      <th>likes</th>\n      <th>date</th>\n      <th>content</th>\n      <th>topics</th>\n      <th>link</th>\n      <th>social</th>\n      <th>title</th>\n      <th>other_scores</th>\n    </tr>\n  </thead>\n  <tbody>\n    <tr>\n      <th>0</th>\n      <td>1345138664377094144</td>\n      <td>Tyler Winklevoss tyler</td>\n      <td>483.0</td>\n      <td>4273.0</td>\n      <td>2021-01-01 22:43:43</td>\n      <td>Zcash $ZEC is easily the most underrated crypt...</td>\n      <td>[],crypto]</td>\n      <td>https://twitter.com/tyler/status/1345138664377...</td>\n      <td>twitter</td>\n      <td></td>\n      <td></td>\n    </tr>\n    <tr>\n      <th>1</th>\n      <td>1345136516729860107</td>\n      <td>Ming Solenya Napenstein MingGao26</td>\n      <td>15.0</td>\n      <td>254.0</td>\n      <td>2021-01-01 22:35:11</td>\n      <td>maybe the 19% rosneft stake failed so Gazprom ...</td>\n      <td>[],crypto]</td>\n      <td>https://twitter.com/MingGao26/status/134513651...</td>\n      <td>twitter</td>\n      <td></td>\n      <td></td>\n    </tr>\n    <tr>\n      <th>2</th>\n      <td>1345127710943830018</td>\n      <td>Cointelegraph Cointelegraph</td>\n      <td>15.0</td>\n      <td>219.0</td>\n      <td>2021-01-01 22:00:12</td>\n      <td>Banking giant Wells Fargo finally bent the kne...</td>\n      <td>['CryptoYearInReview'],crypto]</td>\n      <td>https://twitter.com/Cointelegraph/status/13451...</td>\n      <td>twitter</td>\n      <td></td>\n      <td></td>\n    </tr>\n    <tr>\n      <th>3</th>\n      <td>1345125794385944576</td>\n      <td>RYAN SΞAN ADAMS - rsa.eth RyanSAdams</td>\n      <td>19.0</td>\n      <td>306.0</td>\n      <td>2021-01-01 21:52:35</td>\n      <td>If you don’t have assets you’re screwed. \\r\\n\\...</td>\n      <td>[],crypto]</td>\n      <td>https://twitter.com/RyanSAdams/status/13451257...</td>\n      <td>twitter</td>\n      <td></td>\n      <td></td>\n    </tr>\n    <tr>\n      <th>4</th>\n      <td>1345100324705423360</td>\n      <td>Binance binance</td>\n      <td>1286.0</td>\n      <td>1697.0</td>\n      <td>2021-01-01 20:11:22</td>\n      <td>What are your 2021 #crypto predictions?</td>\n      <td>['crypto'],crypto]</td>\n      <td>https://twitter.com/binance/status/13451003247...</td>\n      <td>twitter</td>\n      <td></td>\n      <td></td>\n    </tr>\n  </tbody>\n</table>\n</div>"
     },
     "execution_count": 19,
     "metadata": {},
     "output_type": "execute_result"
    }
   ],
   "source": [
    "res = pd.concat([twitter, reddit_p, reddit_c], ignore_index=True, join=\"inner\")\n",
    "res.head()"
   ],
   "metadata": {
    "collapsed": false
   }
  },
  {
   "cell_type": "code",
   "execution_count": 20,
   "outputs": [
    {
     "name": "stdout",
     "output_type": "stream",
     "text": [
      "Index(['id', 'author', 'replies', 'likes', 'date', 'content', 'topics', 'link',\n",
      "       'social', 'title', 'other_scores'],\n",
      "      dtype='object') 11\n",
      "['author', 'content', 'date', 'id', 'likes', 'link', 'other_scores', 'replies', 'social', 'title', 'topics'] 11\n"
     ]
    }
   ],
   "source": [
    "print(res.columns, len(res.columns))\n",
    "print(columns, len(columns))"
   ],
   "metadata": {
    "collapsed": false
   }
  },
  {
   "cell_type": "code",
   "execution_count": 24,
   "outputs": [
    {
     "data": {
      "text/plain": "id                      object\nauthor                  object\nreplies                float64\nlikes                  float64\ndate            datetime64[ns]\ncontent                 object\ntopics                  object\nlink                    object\nsocial                  object\ntitle                   object\nother_scores            object\ndtype: object"
     },
     "execution_count": 24,
     "metadata": {},
     "output_type": "execute_result"
    }
   ],
   "source": [
    "res.dtypes"
   ],
   "metadata": {
    "collapsed": false
   }
  },
  {
   "cell_type": "code",
   "execution_count": 25,
   "outputs": [],
   "source": [
    "res.to_csv(\"Aggregated_reddit_twitter.csv\")"
   ],
   "metadata": {
    "collapsed": false
   }
  }
 ],
 "metadata": {
  "kernelspec": {
   "display_name": "Python 3",
   "language": "python",
   "name": "python3"
  },
  "language_info": {
   "codemirror_mode": {
    "name": "ipython",
    "version": 2
   },
   "file_extension": ".py",
   "mimetype": "text/x-python",
   "name": "python",
   "nbconvert_exporter": "python",
   "pygments_lexer": "ipython2",
   "version": "2.7.6"
  }
 },
 "nbformat": 4,
 "nbformat_minor": 0
}
