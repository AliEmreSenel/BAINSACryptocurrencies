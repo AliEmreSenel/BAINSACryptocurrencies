{
 "cells": [
  {
   "cell_type": "code",
   "execution_count": 1,
   "outputs": [],
   "source": [
    "import pandas as pd\n"
   ],
   "metadata": {
    "collapsed": false,
    "ExecuteTime": {
     "start_time": "2023-04-27T08:44:48.894312Z",
     "end_time": "2023-04-27T08:44:49.165912Z"
    }
   }
  },
  {
   "cell_type": "code",
   "execution_count": 2,
   "outputs": [],
   "source": [
    "# btc_av = pd.read_csv(\"df_BTC_alphavantage_01_Feb.csv\")\n",
    "# eth_av = pd.read_csv(\"df_ETH_alphavantage_01_Feb.csv\")\n",
    "reddit_c = pd.read_csv(\"reddit_comments.csv\")\n",
    "reddit_p = pd.read_csv(\"posts.csv\")\n",
    "twitter = pd.read_csv(\"tweeter_data_pandas.csv\")\n",
    "twitter = twitter.drop(columns=[\"link\"])"
   ],
   "metadata": {
    "collapsed": false,
    "ExecuteTime": {
     "start_time": "2023-04-27T08:44:49.169159Z",
     "end_time": "2023-04-27T08:44:56.685196Z"
    }
   }
  },
  {
   "cell_type": "code",
   "execution_count": 3,
   "outputs": [],
   "source": [
    "columns = [\"id\", \"date\", \"content\", \"likes\", \"title\", \"author\", \"link\", \"other_scores\", \"replies\",\n",
    "           \"topics\", \"social\"]\n"
   ],
   "metadata": {
    "collapsed": false,
    "ExecuteTime": {
     "start_time": "2023-04-27T08:44:56.685326Z",
     "end_time": "2023-04-27T08:44:56.689216Z"
    }
   }
  },
  {
   "cell_type": "code",
   "execution_count": 5,
   "outputs": [
    {
     "data": {
      "text/plain": "(Index(['id', 'title', 'author', 'created_utc', 'subreddit', 'score',\n        'num_comments', 'permalink', 'url', 'selftext', 'over_18', 'is_video',\n        'is_original_content', 'is_self', 'is_meta', 'is_crosspostable',\n        'is_reddit_media_domain', 'is_robot_indexable', 'is_gallery',\n        'processed', 'comments_processed'],\n       dtype='object'),\n Index(['id', 'parent_id', 'link_id', 'subreddit', 'author', 'body', 'score',\n        'created_utc'],\n       dtype='object'))"
     },
     "execution_count": 5,
     "metadata": {},
     "output_type": "execute_result"
    }
   ],
   "source": [
    "reddit_p.columns, reddit_c.columns"
   ],
   "metadata": {
    "collapsed": false,
    "ExecuteTime": {
     "start_time": "2023-04-27T08:45:04.610568Z",
     "end_time": "2023-04-27T08:45:04.622960Z"
    }
   }
  },
  {
   "cell_type": "markdown",
   "source": [
    "## Standardizing dataframes"
   ],
   "metadata": {
    "collapsed": false
   }
  },
  {
   "cell_type": "code",
   "execution_count": 4,
   "outputs": [],
   "source": [
    "# Reddit posts\n",
    "\n",
    "reddit_p = reddit_p.rename(columns={\n",
    "    \"created_utc\": \"date\",\n",
    "    \"num_comments\": \"replies\",\n",
    "    \"subreddit\": \"topics\",\n",
    "    \"url\": \"link\",\n",
    "    \"selftext\": \"content\",\n",
    "    \"score\": \"likes\",\n",
    "})\n",
    "\n",
    "# not present columns: other_scores, social\n",
    "reddit_p[\"other_scores\"] = \"\"\n",
    "reddit_p[\"social\"] = \"reddit\"\n",
    "# merge inner to be used"
   ],
   "metadata": {
    "collapsed": false,
    "ExecuteTime": {
     "start_time": "2023-04-19T16:01:01.821664Z",
     "end_time": "2023-04-19T16:01:01.853388Z"
    }
   }
  },
  {
   "cell_type": "code",
   "execution_count": 5,
   "outputs": [
    {
     "data": {
      "text/plain": "                                date          likes        replies   \ncount                         221224  221224.000000  221224.000000  \\\nmean   2022-12-12 16:26:37.871298304      17.535276       6.686268   \nmin              2022-11-03 19:32:10       0.000000       0.000000   \n25%    2022-11-22 15:28:26.249999872       1.000000       0.000000   \n50%       2022-12-12 18:37:26.500000       1.000000       0.000000   \n75%              2022-12-31 19:14:48       2.000000       2.000000   \nmax              2023-01-24 19:30:21   44662.000000    9593.000000   \nstd                              NaN     256.479772      56.388480   \n\n             over_18       is_video  is_original_content        is_self   \ncount  221224.000000  221224.000000        221224.000000  221224.000000  \\\nmean        0.042776       0.011590             0.005103       0.480038   \nmin         0.000000       0.000000             0.000000       0.000000   \n25%         0.000000       0.000000             0.000000       0.000000   \n50%         0.000000       0.000000             0.000000       0.000000   \n75%         0.000000       0.000000             0.000000       1.000000   \nmax         1.000000       1.000000             1.000000       1.000000   \nstd         0.202351       0.107032             0.071256       0.499603   \n\n             is_meta  is_crosspostable  is_reddit_media_domain   \ncount  221224.000000          221224.0           221224.000000  \\\nmean        0.000127               0.0                0.103488   \nmin         0.000000               0.0                0.000000   \n25%         0.000000               0.0                0.000000   \n50%         0.000000               0.0                0.000000   \n75%         0.000000               0.0                0.000000   \nmax         1.000000               0.0                1.000000   \nstd         0.011250               0.0                0.304596   \n\n       is_robot_indexable     is_gallery      processed  comments_processed  \ncount       221224.000000  221224.000000  243260.000000            221224.0  \nmean             0.549244       0.020784       0.909414                 1.0  \nmin              0.000000       0.000000       0.000000                 1.0  \n25%              0.000000       0.000000       1.000000                 1.0  \n50%              1.000000       0.000000       1.000000                 1.0  \n75%              1.000000       0.000000       1.000000                 1.0  \nmax              1.000000       1.000000       1.000000                 1.0  \nstd              0.497570       0.142662       0.287020                 0.0  ",
      "text/html": "<div>\n<style scoped>\n    .dataframe tbody tr th:only-of-type {\n        vertical-align: middle;\n    }\n\n    .dataframe tbody tr th {\n        vertical-align: top;\n    }\n\n    .dataframe thead th {\n        text-align: right;\n    }\n</style>\n<table border=\"1\" class=\"dataframe\">\n  <thead>\n    <tr style=\"text-align: right;\">\n      <th></th>\n      <th>date</th>\n      <th>likes</th>\n      <th>replies</th>\n      <th>over_18</th>\n      <th>is_video</th>\n      <th>is_original_content</th>\n      <th>is_self</th>\n      <th>is_meta</th>\n      <th>is_crosspostable</th>\n      <th>is_reddit_media_domain</th>\n      <th>is_robot_indexable</th>\n      <th>is_gallery</th>\n      <th>processed</th>\n      <th>comments_processed</th>\n    </tr>\n  </thead>\n  <tbody>\n    <tr>\n      <th>count</th>\n      <td>221224</td>\n      <td>221224.000000</td>\n      <td>221224.000000</td>\n      <td>221224.000000</td>\n      <td>221224.000000</td>\n      <td>221224.000000</td>\n      <td>221224.000000</td>\n      <td>221224.000000</td>\n      <td>221224.0</td>\n      <td>221224.000000</td>\n      <td>221224.000000</td>\n      <td>221224.000000</td>\n      <td>243260.000000</td>\n      <td>221224.0</td>\n    </tr>\n    <tr>\n      <th>mean</th>\n      <td>2022-12-12 16:26:37.871298304</td>\n      <td>17.535276</td>\n      <td>6.686268</td>\n      <td>0.042776</td>\n      <td>0.011590</td>\n      <td>0.005103</td>\n      <td>0.480038</td>\n      <td>0.000127</td>\n      <td>0.0</td>\n      <td>0.103488</td>\n      <td>0.549244</td>\n      <td>0.020784</td>\n      <td>0.909414</td>\n      <td>1.0</td>\n    </tr>\n    <tr>\n      <th>min</th>\n      <td>2022-11-03 19:32:10</td>\n      <td>0.000000</td>\n      <td>0.000000</td>\n      <td>0.000000</td>\n      <td>0.000000</td>\n      <td>0.000000</td>\n      <td>0.000000</td>\n      <td>0.000000</td>\n      <td>0.0</td>\n      <td>0.000000</td>\n      <td>0.000000</td>\n      <td>0.000000</td>\n      <td>0.000000</td>\n      <td>1.0</td>\n    </tr>\n    <tr>\n      <th>25%</th>\n      <td>2022-11-22 15:28:26.249999872</td>\n      <td>1.000000</td>\n      <td>0.000000</td>\n      <td>0.000000</td>\n      <td>0.000000</td>\n      <td>0.000000</td>\n      <td>0.000000</td>\n      <td>0.000000</td>\n      <td>0.0</td>\n      <td>0.000000</td>\n      <td>0.000000</td>\n      <td>0.000000</td>\n      <td>1.000000</td>\n      <td>1.0</td>\n    </tr>\n    <tr>\n      <th>50%</th>\n      <td>2022-12-12 18:37:26.500000</td>\n      <td>1.000000</td>\n      <td>0.000000</td>\n      <td>0.000000</td>\n      <td>0.000000</td>\n      <td>0.000000</td>\n      <td>0.000000</td>\n      <td>0.000000</td>\n      <td>0.0</td>\n      <td>0.000000</td>\n      <td>1.000000</td>\n      <td>0.000000</td>\n      <td>1.000000</td>\n      <td>1.0</td>\n    </tr>\n    <tr>\n      <th>75%</th>\n      <td>2022-12-31 19:14:48</td>\n      <td>2.000000</td>\n      <td>2.000000</td>\n      <td>0.000000</td>\n      <td>0.000000</td>\n      <td>0.000000</td>\n      <td>1.000000</td>\n      <td>0.000000</td>\n      <td>0.0</td>\n      <td>0.000000</td>\n      <td>1.000000</td>\n      <td>0.000000</td>\n      <td>1.000000</td>\n      <td>1.0</td>\n    </tr>\n    <tr>\n      <th>max</th>\n      <td>2023-01-24 19:30:21</td>\n      <td>44662.000000</td>\n      <td>9593.000000</td>\n      <td>1.000000</td>\n      <td>1.000000</td>\n      <td>1.000000</td>\n      <td>1.000000</td>\n      <td>1.000000</td>\n      <td>0.0</td>\n      <td>1.000000</td>\n      <td>1.000000</td>\n      <td>1.000000</td>\n      <td>1.000000</td>\n      <td>1.0</td>\n    </tr>\n    <tr>\n      <th>std</th>\n      <td>NaN</td>\n      <td>256.479772</td>\n      <td>56.388480</td>\n      <td>0.202351</td>\n      <td>0.107032</td>\n      <td>0.071256</td>\n      <td>0.499603</td>\n      <td>0.011250</td>\n      <td>0.0</td>\n      <td>0.304596</td>\n      <td>0.497570</td>\n      <td>0.142662</td>\n      <td>0.287020</td>\n      <td>0.0</td>\n    </tr>\n  </tbody>\n</table>\n</div>"
     },
     "execution_count": 5,
     "metadata": {},
     "output_type": "execute_result"
    }
   ],
   "source": [
    "# reddit_p[\"title\"] = reddit_p[\"title\"].astype(\"\")\n",
    "# reddit_p[\"author\"] = reddit_p[\"author\"].astype(\"string\")\n",
    "reddit_p[\"date\"] = pd.to_datetime(reddit_p[\"date\"], unit=\"s\")\n",
    "\n",
    "reddit_p.describe()"
   ],
   "metadata": {
    "collapsed": false,
    "ExecuteTime": {
     "start_time": "2023-04-19T16:01:01.855032Z",
     "end_time": "2023-04-19T16:01:01.974446Z"
    }
   }
  },
  {
   "cell_type": "code",
   "execution_count": 7,
   "outputs": [
    {
     "name": "stdout",
     "output_type": "stream",
     "text": [
      "['author', 'content', 'date', 'id', 'likes', 'link', 'other_scores', 'replies', 'social', 'title', 'topics']\n",
      "['Unnamed: 0', 'category', 'content', 'hashtags', 'images', 'is_retweet', 'likes', 'mentions', 'name', 'posted_time', 'profile_picture', 'replies', 'retweets', 'tweet_id', 'tweet_url', 'username', 'videos']\n"
     ]
    }
   ],
   "source": [
    "columns.sort()\n",
    "z = list(twitter.columns)\n",
    "z.sort()\n",
    "print(columns)\n",
    "print(z)\n",
    "twitter[\"name\"] = twitter[\"name\"] + \" \" + twitter[\"username\"]\n",
    "twitter = twitter.rename(columns={\n",
    "    \"tweet_id\": \"id\",\n",
    "    \"name\": \"author\",\n",
    "    \"posted_time\": \"date\",\n",
    "    \"hashtags\": \"topics\",\n",
    "    \"tweet_url\": \"link\"\n",
    "})\n",
    "\n",
    "twitter[\"topics\"] = twitter[\"topics\"][:-1] + \",\" + twitter[\"category\"] + \"]\"  # todo: be fixed\n",
    "twitter = twitter.drop([\"category\"], axis=1)\n",
    "twitter[\"social\"] = \"twitter\"\n",
    "twitter[\"title\"] = \"\"\n",
    "twitter[\"other_scores\"] = \"\"\n"
   ],
   "metadata": {
    "collapsed": false
   }
  },
  {
   "cell_type": "code",
   "execution_count": 8,
   "outputs": [],
   "source": [
    "# res = pd.merge(twitter, reddit_p, how=\"inner\")\n",
    "# res.head()\n",
    "twitter[\"id\"] = twitter[\"id\"].astype(\"object\")\n",
    "twitter[\"replies\"] = twitter[\"replies\"].astype(\"float\")\n",
    "twitter[\"likes\"] = twitter[\"likes\"].astype(\"float\")\n",
    "\n"
   ],
   "metadata": {
    "collapsed": false
   }
  },
  {
   "cell_type": "code",
   "execution_count": 9,
   "outputs": [],
   "source": [
    "# res = pd.merge(twitter, reddit_p, how=\"inner\")\n",
    "res = pd.concat([twitter, reddit_p], ignore_index=True, join=\"inner\")\n"
   ],
   "metadata": {
    "collapsed": false
   }
  },
  {
   "cell_type": "code",
   "execution_count": 10,
   "outputs": [],
   "source": [
    "# Reddit posts\n",
    "\n",
    "reddit_c = reddit_c.rename(columns={\n",
    "    \"created_utc\": \"date\",\n",
    "    # \"num_comments\": \"replies\",\n",
    "    \"subreddit\": \"topics\",\n",
    "    \"link_id\": \"link\",\n",
    "    \"body\": \"content\",\n",
    "    \"score\": \"likes\",\n",
    "})\n",
    "\n",
    "# not present columns: other_scores, social\n",
    "reddit_c[\"other_scores\"] = \"\"\n",
    "reddit_c[\"replies\"] = 0\n",
    "reddit_c[\"social\"] = \"reddit\"\n",
    "reddit_c[\"title\"] = \"\"\n",
    "\n",
    "reddit_c[\"date\"] = pd.to_datetime(reddit_c[\"date\"], unit=\"s\")\n",
    "\n",
    "# merge inner to be used\n"
   ],
   "metadata": {
    "collapsed": false
   }
  },
  {
   "cell_type": "code",
   "execution_count": 18,
   "outputs": [],
   "source": [
    "twitter[\"date\"] = pd.to_datetime(twitter[\"date\"]).dt.tz_localize(None)\n"
   ],
   "metadata": {
    "collapsed": false
   }
  },
  {
   "cell_type": "code",
   "execution_count": 11,
   "outputs": [],
   "source": [],
   "metadata": {
    "collapsed": false
   }
  },
  {
   "cell_type": "code",
   "execution_count": 19,
   "outputs": [
    {
     "data": {
      "text/plain": "                    id                                author  replies   likes  \\\n0  1345138664377094144                Tyler Winklevoss tyler    483.0  4273.0   \n1  1345136516729860107     Ming Solenya Napenstein MingGao26     15.0   254.0   \n2  1345127710943830018           Cointelegraph Cointelegraph     15.0   219.0   \n3  1345125794385944576  RYAN SΞAN ADAMS - rsa.eth RyanSAdams     19.0   306.0   \n4  1345100324705423360                       Binance binance   1286.0  1697.0   \n\n                 date                                            content  \\\n0 2021-01-01 22:43:43  Zcash $ZEC is easily the most underrated crypt...   \n1 2021-01-01 22:35:11  maybe the 19% rosneft stake failed so Gazprom ...   \n2 2021-01-01 22:00:12  Banking giant Wells Fargo finally bent the kne...   \n3 2021-01-01 21:52:35  If you don’t have assets you’re screwed. \\r\\n\\...   \n4 2021-01-01 20:11:22            What are your 2021 #crypto predictions?   \n\n                           topics  \\\n0                      [],crypto]   \n1                      [],crypto]   \n2  ['CryptoYearInReview'],crypto]   \n3                      [],crypto]   \n4              ['crypto'],crypto]   \n\n                                                link   social title  \\\n0  https://twitter.com/tyler/status/1345138664377...  twitter         \n1  https://twitter.com/MingGao26/status/134513651...  twitter         \n2  https://twitter.com/Cointelegraph/status/13451...  twitter         \n3  https://twitter.com/RyanSAdams/status/13451257...  twitter         \n4  https://twitter.com/binance/status/13451003247...  twitter         \n\n  other_scores  \n0               \n1               \n2               \n3               \n4               ",
      "text/html": "<div>\n<style scoped>\n    .dataframe tbody tr th:only-of-type {\n        vertical-align: middle;\n    }\n\n    .dataframe tbody tr th {\n        vertical-align: top;\n    }\n\n    .dataframe thead th {\n        text-align: right;\n    }\n</style>\n<table border=\"1\" class=\"dataframe\">\n  <thead>\n    <tr style=\"text-align: right;\">\n      <th></th>\n      <th>id</th>\n      <th>author</th>\n      <th>replies</th>\n      <th>likes</th>\n      <th>date</th>\n      <th>content</th>\n      <th>topics</th>\n      <th>link</th>\n      <th>social</th>\n      <th>title</th>\n      <th>other_scores</th>\n    </tr>\n  </thead>\n  <tbody>\n    <tr>\n      <th>0</th>\n      <td>1345138664377094144</td>\n      <td>Tyler Winklevoss tyler</td>\n      <td>483.0</td>\n      <td>4273.0</td>\n      <td>2021-01-01 22:43:43</td>\n      <td>Zcash $ZEC is easily the most underrated crypt...</td>\n      <td>[],crypto]</td>\n      <td>https://twitter.com/tyler/status/1345138664377...</td>\n      <td>twitter</td>\n      <td></td>\n      <td></td>\n    </tr>\n    <tr>\n      <th>1</th>\n      <td>1345136516729860107</td>\n      <td>Ming Solenya Napenstein MingGao26</td>\n      <td>15.0</td>\n      <td>254.0</td>\n      <td>2021-01-01 22:35:11</td>\n      <td>maybe the 19% rosneft stake failed so Gazprom ...</td>\n      <td>[],crypto]</td>\n      <td>https://twitter.com/MingGao26/status/134513651...</td>\n      <td>twitter</td>\n      <td></td>\n      <td></td>\n    </tr>\n    <tr>\n      <th>2</th>\n      <td>1345127710943830018</td>\n      <td>Cointelegraph Cointelegraph</td>\n      <td>15.0</td>\n      <td>219.0</td>\n      <td>2021-01-01 22:00:12</td>\n      <td>Banking giant Wells Fargo finally bent the kne...</td>\n      <td>['CryptoYearInReview'],crypto]</td>\n      <td>https://twitter.com/Cointelegraph/status/13451...</td>\n      <td>twitter</td>\n      <td></td>\n      <td></td>\n    </tr>\n    <tr>\n      <th>3</th>\n      <td>1345125794385944576</td>\n      <td>RYAN SΞAN ADAMS - rsa.eth RyanSAdams</td>\n      <td>19.0</td>\n      <td>306.0</td>\n      <td>2021-01-01 21:52:35</td>\n      <td>If you don’t have assets you’re screwed. \\r\\n\\...</td>\n      <td>[],crypto]</td>\n      <td>https://twitter.com/RyanSAdams/status/13451257...</td>\n      <td>twitter</td>\n      <td></td>\n      <td></td>\n    </tr>\n    <tr>\n      <th>4</th>\n      <td>1345100324705423360</td>\n      <td>Binance binance</td>\n      <td>1286.0</td>\n      <td>1697.0</td>\n      <td>2021-01-01 20:11:22</td>\n      <td>What are your 2021 #crypto predictions?</td>\n      <td>['crypto'],crypto]</td>\n      <td>https://twitter.com/binance/status/13451003247...</td>\n      <td>twitter</td>\n      <td></td>\n      <td></td>\n    </tr>\n  </tbody>\n</table>\n</div>"
     },
     "execution_count": 19,
     "metadata": {},
     "output_type": "execute_result"
    }
   ],
   "source": [
    "res = pd.concat([reddit_p, reddit_c], ignore_index=True, join=\"inner\")\n",
    "res.head()"
   ],
   "metadata": {
    "collapsed": false
   }
  },
  {
   "cell_type": "code",
   "execution_count": 20,
   "outputs": [
    {
     "name": "stdout",
     "output_type": "stream",
     "text": [
      "Index(['id', 'author', 'replies', 'likes', 'date', 'content', 'topics', 'link',\n",
      "       'social', 'title', 'other_scores'],\n",
      "      dtype='object') 11\n",
      "['author', 'content', 'date', 'id', 'likes', 'link', 'other_scores', 'replies', 'social', 'title', 'topics'] 11\n"
     ]
    }
   ],
   "source": [
    "print(res.columns, len(res.columns))\n",
    "print(columns, len(columns))"
   ],
   "metadata": {
    "collapsed": false
   }
  },
  {
   "cell_type": "code",
   "execution_count": 24,
   "outputs": [
    {
     "data": {
      "text/plain": "id                      object\nauthor                  object\nreplies                float64\nlikes                  float64\ndate            datetime64[ns]\ncontent                 object\ntopics                  object\nlink                    object\nsocial                  object\ntitle                   object\nother_scores            object\ndtype: object"
     },
     "execution_count": 24,
     "metadata": {},
     "output_type": "execute_result"
    }
   ],
   "source": [
    "res.dtypes"
   ],
   "metadata": {
    "collapsed": false
   }
  },
  {
   "cell_type": "code",
   "execution_count": 25,
   "outputs": [],
   "source": [
    "res.to_csv(\"Aggregated_reddit_twitter.csv\")"
   ],
   "metadata": {
    "collapsed": false
   }
  }
 ],
 "metadata": {
  "kernelspec": {
   "display_name": "Python 3",
   "language": "python",
   "name": "python3"
  },
  "language_info": {
   "codemirror_mode": {
    "name": "ipython",
    "version": 2
   },
   "file_extension": ".py",
   "mimetype": "text/x-python",
   "name": "python",
   "nbconvert_exporter": "python",
   "pygments_lexer": "ipython2",
   "version": "2.7.6"
  }
 },
 "nbformat": 4,
 "nbformat_minor": 0
}
