{
 "cells": [
  {
   "cell_type": "code",
   "execution_count": 118,
   "outputs": [],
   "source": [
    "import pandas as pd\n",
    "\n",
    "btc_av = pd.read_csv(\"df_BTC_alphavantage_01_Feb.csv\")\n",
    "eth_av = pd.read_csv(\"df_ETH_alphavantage_01_Feb.csv\")\n",
    "reddit_c = pd.read_csv(\"reddit_comments.csv\")\n",
    "reddit_p = pd.read_csv(\"reddit_posts.csv\")\n",
    "twitter = pd.read_csv(\"tweeter_data_pandas.csv\")\n",
    "twitter = twitter.drop(columns=[\"link\"])\n"
   ],
   "metadata": {
    "collapsed": false
   }
  },
  {
   "cell_type": "code",
   "execution_count": 119,
   "outputs": [],
   "source": [
    "columns = [\"id\", \"date\", \"content\", \"likes\", \"title\", \"author\", \"link\", \"other_scores\", \"replies\",\n",
    "           \"topics\", \"social\"]\n"
   ],
   "metadata": {
    "collapsed": false
   }
  },
  {
   "cell_type": "markdown",
   "source": [
    "## Standardizing dataframes"
   ],
   "metadata": {
    "collapsed": false
   }
  },
  {
   "cell_type": "code",
   "execution_count": 120,
   "outputs": [
    {
     "data": {
      "text/plain": "Index(['id', 'title', 'author', 'date', 'topics', 'likes', 'replies',\n       'permalink', 'link', 'selftext', 'over_18', 'is_video',\n       'is_original_content', 'is_self', 'is_meta', 'is_crosspostable',\n       'is_reddit_media_domain', 'is_robot_indexable', 'is_gallery',\n       'processed', 'comments_processed', 'other_scores', 'social'],\n      dtype='object')"
     },
     "execution_count": 120,
     "metadata": {},
     "output_type": "execute_result"
    }
   ],
   "source": [
    "# Reddit posts\n",
    "\n",
    "reddit_p = reddit_p.rename(columns={\n",
    "    \"created_utc\": \"date\",\n",
    "    \"num_comments\": \"replies\",\n",
    "    \"subreddit\": \"topics\",\n",
    "    \"url\": \"link\",\n",
    "    \"selfxtext\": \"content\",\n",
    "    \"score\": \"likes\",\n",
    "})\n",
    "\n",
    "# not present columns: other_scores, social\n",
    "reddit_p[\"other_scores\"] = \"\"\n",
    "reddit_p[\"social\"] = \"reddit\"\n",
    "# merge inner to be used\n",
    "reddit_p.columns"
   ],
   "metadata": {
    "collapsed": false
   }
  },
  {
   "cell_type": "code",
   "execution_count": 125,
   "outputs": [
    {
     "data": {
      "text/plain": "id                         object\ntitle                      object\nauthor                     object\ndate                       object\ntopics                     object\nlikes                     float64\nreplies                   float64\npermalink                  object\nlink                       object\nselftext                   object\nover_18                   float64\nis_video                  float64\nis_original_content       float64\nis_self                   float64\nis_meta                   float64\nis_crosspostable          float64\nis_reddit_media_domain    float64\nis_robot_indexable        float64\nis_gallery                float64\nprocessed                   int64\ncomments_processed        float64\nother_scores               object\nsocial                     object\ndtype: object"
     },
     "execution_count": 125,
     "metadata": {},
     "output_type": "execute_result"
    }
   ],
   "source": [
    "# reddit_p[\"title\"] = reddit_p[\"title\"].astype(\"\")\n",
    "# reddit_p[\"author\"] = reddit_p[\"author\"].astype(\"string\")\n",
    "reddit_p[\"date\"] = reddit_p[\"date\"].astype(\"object\")\n",
    "reddit_p.dtypes"
   ],
   "metadata": {
    "collapsed": false
   }
  },
  {
   "cell_type": "code",
   "execution_count": 126,
   "outputs": [
    {
     "name": "stdout",
     "output_type": "stream",
     "text": [
      "['author', 'content', 'date', 'id', 'likes', 'link', 'other_scores', 'replies', 'social', 'title', 'topics']\n",
      "['Unnamed: 0', 'category', 'content', 'hashtags', 'images', 'is_retweet', 'likes', 'mentions', 'name', 'posted_time', 'profile_picture', 'replies', 'retweets', 'tweet_id', 'tweet_url', 'username', 'videos']\n"
     ]
    }
   ],
   "source": [
    "columns.sort()\n",
    "z = list(twitter.columns)\n",
    "z.sort()\n",
    "print(columns)\n",
    "print(z)\n",
    "twitter[\"name\"] = twitter[\"name\"] + \" \" + twitter[\"username\"]\n",
    "twitter = twitter.rename(columns={\n",
    "    \"tweet_id\": \"id\",\n",
    "    \"name\": \"author\",\n",
    "    \"posted_time\": \"date\",\n",
    "    \"hashtags\": \"topics\",\n",
    "    \"tweet_url\": \"link\"\n",
    "})\n",
    "\n",
    "twitter[\"topics\"] = twitter[\"topics\"][:-1] + \",\" + twitter[\"category\"] + \"]\"  # todo: be fixed\n",
    "twitter = twitter.drop([\"category\"], axis=1)\n",
    "twitter[\"social\"] = \"twitter\"\n",
    "twitter[\"title\"] = \"\""
   ],
   "metadata": {
    "collapsed": false
   }
  },
  {
   "cell_type": "code",
   "execution_count": 129,
   "outputs": [
    {
     "data": {
      "text/plain": "Unnamed: 0           int64\nid                  object\nusername            object\nauthor              object\nprofile_picture     object\nreplies            float64\nretweets             int64\nlikes              float64\nis_retweet            bool\ndate                object\ncontent             object\ntopics              object\nmentions            object\nimages              object\nvideos              object\nlink                object\nsocial              object\ntitle               object\ndtype: object"
     },
     "execution_count": 129,
     "metadata": {},
     "output_type": "execute_result"
    }
   ],
   "source": [
    "# res = pd.merge(twitter, reddit_p, how=\"inner\")\n",
    "# res.head()\n",
    "twitter[\"id\"] = twitter[\"id\"].astype(\"object\")\n",
    "twitter[\"replies\"] = twitter[\"replies\"].astype(\"float\")\n",
    "twitter[\"likes\"] = twitter[\"likes\"].astype(\"float\")\n",
    "\n",
    "twitter.dtypes"
   ],
   "metadata": {
    "collapsed": false
   }
  },
  {
   "cell_type": "code",
   "execution_count": 138,
   "outputs": [
    {
     "data": {
      "text/plain": "                    id                                author  replies   likes  \\\n0  1345138664377094144                Tyler Winklevoss tyler    483.0  4273.0   \n1  1345136516729860107     Ming Solenya Napenstein MingGao26     15.0   254.0   \n2  1345127710943830018           Cointelegraph Cointelegraph     15.0   219.0   \n3  1345125794385944576  RYAN SΞAN ADAMS - rsa.eth RyanSAdams     19.0   306.0   \n4  1345100324705423360                       Binance binance   1286.0  1697.0   \n\n                        date                          topics  \\\n0  2021-01-01T22:43:43+00:00                      [],crypto]   \n1  2021-01-01T22:35:11+00:00                      [],crypto]   \n2  2021-01-01T22:00:12+00:00  ['CryptoYearInReview'],crypto]   \n3  2021-01-01T21:52:35+00:00                      [],crypto]   \n4  2021-01-01T20:11:22+00:00              ['crypto'],crypto]   \n\n                                                link   social title  \n0  https://twitter.com/tyler/status/1345138664377...  twitter        \n1  https://twitter.com/MingGao26/status/134513651...  twitter        \n2  https://twitter.com/Cointelegraph/status/13451...  twitter        \n3  https://twitter.com/RyanSAdams/status/13451257...  twitter        \n4  https://twitter.com/binance/status/13451003247...  twitter        ",
      "text/html": "<div>\n<style scoped>\n    .dataframe tbody tr th:only-of-type {\n        vertical-align: middle;\n    }\n\n    .dataframe tbody tr th {\n        vertical-align: top;\n    }\n\n    .dataframe thead th {\n        text-align: right;\n    }\n</style>\n<table border=\"1\" class=\"dataframe\">\n  <thead>\n    <tr style=\"text-align: right;\">\n      <th></th>\n      <th>id</th>\n      <th>author</th>\n      <th>replies</th>\n      <th>likes</th>\n      <th>date</th>\n      <th>topics</th>\n      <th>link</th>\n      <th>social</th>\n      <th>title</th>\n    </tr>\n  </thead>\n  <tbody>\n    <tr>\n      <th>0</th>\n      <td>1345138664377094144</td>\n      <td>Tyler Winklevoss tyler</td>\n      <td>483.0</td>\n      <td>4273.0</td>\n      <td>2021-01-01T22:43:43+00:00</td>\n      <td>[],crypto]</td>\n      <td>https://twitter.com/tyler/status/1345138664377...</td>\n      <td>twitter</td>\n      <td></td>\n    </tr>\n    <tr>\n      <th>1</th>\n      <td>1345136516729860107</td>\n      <td>Ming Solenya Napenstein MingGao26</td>\n      <td>15.0</td>\n      <td>254.0</td>\n      <td>2021-01-01T22:35:11+00:00</td>\n      <td>[],crypto]</td>\n      <td>https://twitter.com/MingGao26/status/134513651...</td>\n      <td>twitter</td>\n      <td></td>\n    </tr>\n    <tr>\n      <th>2</th>\n      <td>1345127710943830018</td>\n      <td>Cointelegraph Cointelegraph</td>\n      <td>15.0</td>\n      <td>219.0</td>\n      <td>2021-01-01T22:00:12+00:00</td>\n      <td>['CryptoYearInReview'],crypto]</td>\n      <td>https://twitter.com/Cointelegraph/status/13451...</td>\n      <td>twitter</td>\n      <td></td>\n    </tr>\n    <tr>\n      <th>3</th>\n      <td>1345125794385944576</td>\n      <td>RYAN SΞAN ADAMS - rsa.eth RyanSAdams</td>\n      <td>19.0</td>\n      <td>306.0</td>\n      <td>2021-01-01T21:52:35+00:00</td>\n      <td>[],crypto]</td>\n      <td>https://twitter.com/RyanSAdams/status/13451257...</td>\n      <td>twitter</td>\n      <td></td>\n    </tr>\n    <tr>\n      <th>4</th>\n      <td>1345100324705423360</td>\n      <td>Binance binance</td>\n      <td>1286.0</td>\n      <td>1697.0</td>\n      <td>2021-01-01T20:11:22+00:00</td>\n      <td>['crypto'],crypto]</td>\n      <td>https://twitter.com/binance/status/13451003247...</td>\n      <td>twitter</td>\n      <td></td>\n    </tr>\n  </tbody>\n</table>\n</div>"
     },
     "execution_count": 138,
     "metadata": {},
     "output_type": "execute_result"
    }
   ],
   "source": [
    "# res = pd.merge(twitter, reddit_p, how=\"inner\")\n",
    "res =pd.concat([twitter, reddit_p], ignore_index=True, join=\"inner\")\n",
    "res.head()"
   ],
   "metadata": {
    "collapsed": false
   }
  },
  {
   "cell_type": "code",
   "execution_count": 140,
   "outputs": [
    {
     "name": "stdout",
     "output_type": "stream",
     "text": [
      "['author', 'content', 'date', 'id', 'likes', 'link', 'other_scores', 'replies', 'social', 'title', 'topics']\n",
      "Index(['Unnamed: 0.1', 'title', 'url', 'time_published', 'authors', 'summary',\n",
      "       'banner_image', 'source', 'category_within_source', 'source_domain',\n",
      "       'topics', 'overall_sentiment_score', 'overall_sentiment_label',\n",
      "       'ticker_sentiment', 'day', 'Unnamed: 0'],\n",
      "      dtype='object')\n"
     ]
    }
   ],
   "source": [
    "print(columns)\n",
    "print(eth_av.columns)"
   ],
   "metadata": {
    "collapsed": false
   }
  },
  {
   "cell_type": "code",
   "execution_count": null,
   "outputs": [],
   "source": [],
   "metadata": {
    "collapsed": false
   }
  }
 ],
 "metadata": {
  "kernelspec": {
   "display_name": "Python 3",
   "language": "python",
   "name": "python3"
  },
  "language_info": {
   "codemirror_mode": {
    "name": "ipython",
    "version": 2
   },
   "file_extension": ".py",
   "mimetype": "text/x-python",
   "name": "python",
   "nbconvert_exporter": "python",
   "pygments_lexer": "ipython2",
   "version": "2.7.6"
  }
 },
 "nbformat": 4,
 "nbformat_minor": 0
}
